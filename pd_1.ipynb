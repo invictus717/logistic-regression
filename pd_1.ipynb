{
  "nbformat": 4,
  "nbformat_minor": 0,
  "metadata": {
    "kernelspec": {
      "display_name": "Python 3",
      "language": "python",
      "name": "python3"
    },
    "language_info": {
      "codemirror_mode": {
        "name": "ipython",
        "version": 3
      },
      "file_extension": ".py",
      "mimetype": "text/x-python",
      "name": "python",
      "nbconvert_exporter": "python",
      "pygments_lexer": "ipython3",
      "version": "3.8.3"
    },
    "colab": {
      "name": "pd-1.ipynb",
      "provenance": [],
      "include_colab_link": true
    },
    "accelerator": "GPU"
  },
  "cells": [
    {
      "cell_type": "markdown",
      "metadata": {
        "id": "view-in-github",
        "colab_type": "text"
      },
      "source": [
        "<a href=\"https://colab.research.google.com/github/invictus717/logistic-regression/blob/main/pd_1.ipynb\" target=\"_parent\"><img src=\"https://colab.research.google.com/assets/colab-badge.svg\" alt=\"Open In Colab\"/></a>"
      ]
    },
    {
      "cell_type": "code",
      "metadata": {
        "id": "2khPckRgnYpF"
      },
      "source": [
        "import pandas as pd\n",
        "import numpy as np"
      ],
      "execution_count": 1,
      "outputs": []
    },
    {
      "cell_type": "code",
      "metadata": {
        "id": "AaUdO_1hnYpF"
      },
      "source": [
        "s=pd.Series([1,3,5,np.nan,6,8])"
      ],
      "execution_count": null,
      "outputs": []
    },
    {
      "cell_type": "code",
      "metadata": {
        "scrolled": true,
        "colab": {
          "base_uri": "https://localhost:8080/",
          "height": 173
        },
        "id": "V50YDuQ4nYpG",
        "outputId": "ecbc3af1-780b-443e-ee96-cf9f488c2bc2"
      },
      "source": [
        "s"
      ],
      "execution_count": 2,
      "outputs": [
        {
          "output_type": "error",
          "ename": "NameError",
          "evalue": "ignored",
          "traceback": [
            "\u001b[0;31m---------------------------------------------------------------------------\u001b[0m",
            "\u001b[0;31mNameError\u001b[0m                                 Traceback (most recent call last)",
            "\u001b[0;32m<ipython-input-2-ded5ba42480f>\u001b[0m in \u001b[0;36m<module>\u001b[0;34m()\u001b[0m\n\u001b[0;32m----> 1\u001b[0;31m \u001b[0ms\u001b[0m\u001b[0;34m\u001b[0m\u001b[0;34m\u001b[0m\u001b[0m\n\u001b[0m",
            "\u001b[0;31mNameError\u001b[0m: name 's' is not defined"
          ]
        }
      ]
    },
    {
      "cell_type": "code",
      "metadata": {
        "colab": {
          "base_uri": "https://localhost:8080/",
          "height": 1000
        },
        "id": "o3X8mJBOnYpH",
        "outputId": "036f1bf9-4c35-4e3b-8fd9-656c8b04e81d"
      },
      "source": [
        "#HollandRadarDraw\n",
        "import numpy as np\n",
        "import matplotlib.pyplot as plt\n",
        "import matplotlib\n",
        "matplotlib.rcParams['font.family']='SimHei'\n",
        "radar_labels = np.array(['研究型(I)','艺术型(A)','社会型(S)',\\\n",
        "                         '企业型(E)','常规型(C)','现实型(R)'])\n",
        "data = np.array([[0.40, 0.32, 0.35, 0.30, 0.30, 0.88],\n",
        "                 [0.85, 0.35, 0.30, 0.40, 0.40, 0.30],\n",
        "                 [0.43, 0.89, 0.30, 0.28, 0.22, 0.30],\n",
        "                 [0.30, 0.25, 0.48, 0.85, 0.45, 0.40],\n",
        "                 [0.20, 0.38, 0.87, 0.45, 0.32, 0.28],\n",
        "                 [0.34, 0.31, 0.38, 0.40, 0.92, 0.28]]) #数据值\n",
        "data_labels = ('艺术家','实验员','工程师','推销员','社会工作者','记事员')\n",
        "angles = np.linspace(0, 2*np.pi, 6, endpoint=False)\n",
        "data = np.concatenate((data, [data[0]]))\n",
        "angles = np.concatenate((angles, [angles[0]]))\n",
        "fig = plt.figure(facecolor=\"white\")\n",
        "plt.subplot(111, polar=True)\n",
        "plt.plot(angles,data,'o-', linewidth=1, alpha=0.2)\n",
        "plt.fill(angles,data, alpha=0.25)\n",
        "plt.thetagrids(angles*180/np.pi, radar_labels)\n",
        "plt.figtext(0.52, 0.95, '霍兰德人格分析', ha='center', size=20)\n",
        "legend = plt.legend(data_labels, loc=(0.94, 0.80), labelspacing=0.1)\n",
        "plt.setp(legend.get_texts(), fontsize='large')\n",
        "plt.grid(True)\n",
        "plt.savefig('holland_radar.jpg')\n",
        "plt.show()\n"
      ],
      "execution_count": 3,
      "outputs": [
        {
          "output_type": "stream",
          "text": [
            "findfont: Font family ['SimHei'] not found. Falling back to DejaVu Sans.\n",
            "/usr/local/lib/python3.6/dist-packages/matplotlib/backends/backend_agg.py:214: RuntimeWarning: Glyph 30740 missing from current font.\n",
            "  font.set_text(s, 0.0, flags=flags)\n",
            "/usr/local/lib/python3.6/dist-packages/matplotlib/backends/backend_agg.py:214: RuntimeWarning: Glyph 31350 missing from current font.\n",
            "  font.set_text(s, 0.0, flags=flags)\n",
            "/usr/local/lib/python3.6/dist-packages/matplotlib/backends/backend_agg.py:214: RuntimeWarning: Glyph 22411 missing from current font.\n",
            "  font.set_text(s, 0.0, flags=flags)\n",
            "/usr/local/lib/python3.6/dist-packages/matplotlib/backends/backend_agg.py:214: RuntimeWarning: Glyph 33402 missing from current font.\n",
            "  font.set_text(s, 0.0, flags=flags)\n",
            "/usr/local/lib/python3.6/dist-packages/matplotlib/backends/backend_agg.py:214: RuntimeWarning: Glyph 26415 missing from current font.\n",
            "  font.set_text(s, 0.0, flags=flags)\n",
            "/usr/local/lib/python3.6/dist-packages/matplotlib/backends/backend_agg.py:214: RuntimeWarning: Glyph 31038 missing from current font.\n",
            "  font.set_text(s, 0.0, flags=flags)\n",
            "/usr/local/lib/python3.6/dist-packages/matplotlib/backends/backend_agg.py:214: RuntimeWarning: Glyph 20250 missing from current font.\n",
            "  font.set_text(s, 0.0, flags=flags)\n",
            "/usr/local/lib/python3.6/dist-packages/matplotlib/backends/backend_agg.py:214: RuntimeWarning: Glyph 20225 missing from current font.\n",
            "  font.set_text(s, 0.0, flags=flags)\n",
            "/usr/local/lib/python3.6/dist-packages/matplotlib/backends/backend_agg.py:214: RuntimeWarning: Glyph 19994 missing from current font.\n",
            "  font.set_text(s, 0.0, flags=flags)\n",
            "/usr/local/lib/python3.6/dist-packages/matplotlib/backends/backend_agg.py:214: RuntimeWarning: Glyph 24120 missing from current font.\n",
            "  font.set_text(s, 0.0, flags=flags)\n",
            "/usr/local/lib/python3.6/dist-packages/matplotlib/backends/backend_agg.py:214: RuntimeWarning: Glyph 35268 missing from current font.\n",
            "  font.set_text(s, 0.0, flags=flags)\n",
            "/usr/local/lib/python3.6/dist-packages/matplotlib/backends/backend_agg.py:214: RuntimeWarning: Glyph 29616 missing from current font.\n",
            "  font.set_text(s, 0.0, flags=flags)\n",
            "/usr/local/lib/python3.6/dist-packages/matplotlib/backends/backend_agg.py:214: RuntimeWarning: Glyph 23454 missing from current font.\n",
            "  font.set_text(s, 0.0, flags=flags)\n",
            "/usr/local/lib/python3.6/dist-packages/matplotlib/backends/backend_agg.py:183: RuntimeWarning: Glyph 30740 missing from current font.\n",
            "  font.set_text(s, 0, flags=flags)\n",
            "/usr/local/lib/python3.6/dist-packages/matplotlib/backends/backend_agg.py:183: RuntimeWarning: Glyph 31350 missing from current font.\n",
            "  font.set_text(s, 0, flags=flags)\n",
            "/usr/local/lib/python3.6/dist-packages/matplotlib/backends/backend_agg.py:183: RuntimeWarning: Glyph 22411 missing from current font.\n",
            "  font.set_text(s, 0, flags=flags)\n",
            "/usr/local/lib/python3.6/dist-packages/matplotlib/backends/backend_agg.py:183: RuntimeWarning: Glyph 33402 missing from current font.\n",
            "  font.set_text(s, 0, flags=flags)\n",
            "/usr/local/lib/python3.6/dist-packages/matplotlib/backends/backend_agg.py:183: RuntimeWarning: Glyph 26415 missing from current font.\n",
            "  font.set_text(s, 0, flags=flags)\n",
            "/usr/local/lib/python3.6/dist-packages/matplotlib/backends/backend_agg.py:183: RuntimeWarning: Glyph 31038 missing from current font.\n",
            "  font.set_text(s, 0, flags=flags)\n",
            "/usr/local/lib/python3.6/dist-packages/matplotlib/backends/backend_agg.py:183: RuntimeWarning: Glyph 20250 missing from current font.\n",
            "  font.set_text(s, 0, flags=flags)\n",
            "/usr/local/lib/python3.6/dist-packages/matplotlib/backends/backend_agg.py:183: RuntimeWarning: Glyph 20225 missing from current font.\n",
            "  font.set_text(s, 0, flags=flags)\n",
            "/usr/local/lib/python3.6/dist-packages/matplotlib/backends/backend_agg.py:183: RuntimeWarning: Glyph 19994 missing from current font.\n",
            "  font.set_text(s, 0, flags=flags)\n",
            "/usr/local/lib/python3.6/dist-packages/matplotlib/backends/backend_agg.py:183: RuntimeWarning: Glyph 24120 missing from current font.\n",
            "  font.set_text(s, 0, flags=flags)\n",
            "/usr/local/lib/python3.6/dist-packages/matplotlib/backends/backend_agg.py:183: RuntimeWarning: Glyph 35268 missing from current font.\n",
            "  font.set_text(s, 0, flags=flags)\n",
            "/usr/local/lib/python3.6/dist-packages/matplotlib/backends/backend_agg.py:183: RuntimeWarning: Glyph 29616 missing from current font.\n",
            "  font.set_text(s, 0, flags=flags)\n",
            "/usr/local/lib/python3.6/dist-packages/matplotlib/backends/backend_agg.py:183: RuntimeWarning: Glyph 23454 missing from current font.\n",
            "  font.set_text(s, 0, flags=flags)\n",
            "findfont: Font family ['SimHei'] not found. Falling back to DejaVu Sans.\n",
            "/usr/local/lib/python3.6/dist-packages/matplotlib/backends/backend_agg.py:214: RuntimeWarning: Glyph 23478 missing from current font.\n",
            "  font.set_text(s, 0.0, flags=flags)\n",
            "/usr/local/lib/python3.6/dist-packages/matplotlib/backends/backend_agg.py:214: RuntimeWarning: Glyph 39564 missing from current font.\n",
            "  font.set_text(s, 0.0, flags=flags)\n",
            "/usr/local/lib/python3.6/dist-packages/matplotlib/backends/backend_agg.py:214: RuntimeWarning: Glyph 21592 missing from current font.\n",
            "  font.set_text(s, 0.0, flags=flags)\n",
            "/usr/local/lib/python3.6/dist-packages/matplotlib/backends/backend_agg.py:214: RuntimeWarning: Glyph 24037 missing from current font.\n",
            "  font.set_text(s, 0.0, flags=flags)\n",
            "/usr/local/lib/python3.6/dist-packages/matplotlib/backends/backend_agg.py:214: RuntimeWarning: Glyph 31243 missing from current font.\n",
            "  font.set_text(s, 0.0, flags=flags)\n",
            "/usr/local/lib/python3.6/dist-packages/matplotlib/backends/backend_agg.py:214: RuntimeWarning: Glyph 24072 missing from current font.\n",
            "  font.set_text(s, 0.0, flags=flags)\n",
            "/usr/local/lib/python3.6/dist-packages/matplotlib/backends/backend_agg.py:214: RuntimeWarning: Glyph 25512 missing from current font.\n",
            "  font.set_text(s, 0.0, flags=flags)\n",
            "/usr/local/lib/python3.6/dist-packages/matplotlib/backends/backend_agg.py:214: RuntimeWarning: Glyph 38144 missing from current font.\n",
            "  font.set_text(s, 0.0, flags=flags)\n",
            "/usr/local/lib/python3.6/dist-packages/matplotlib/backends/backend_agg.py:214: RuntimeWarning: Glyph 20316 missing from current font.\n",
            "  font.set_text(s, 0.0, flags=flags)\n",
            "/usr/local/lib/python3.6/dist-packages/matplotlib/backends/backend_agg.py:214: RuntimeWarning: Glyph 32773 missing from current font.\n",
            "  font.set_text(s, 0.0, flags=flags)\n",
            "/usr/local/lib/python3.6/dist-packages/matplotlib/backends/backend_agg.py:214: RuntimeWarning: Glyph 35760 missing from current font.\n",
            "  font.set_text(s, 0.0, flags=flags)\n",
            "/usr/local/lib/python3.6/dist-packages/matplotlib/backends/backend_agg.py:214: RuntimeWarning: Glyph 20107 missing from current font.\n",
            "  font.set_text(s, 0.0, flags=flags)\n",
            "/usr/local/lib/python3.6/dist-packages/matplotlib/backends/backend_agg.py:183: RuntimeWarning: Glyph 23478 missing from current font.\n",
            "  font.set_text(s, 0, flags=flags)\n",
            "/usr/local/lib/python3.6/dist-packages/matplotlib/backends/backend_agg.py:183: RuntimeWarning: Glyph 39564 missing from current font.\n",
            "  font.set_text(s, 0, flags=flags)\n",
            "/usr/local/lib/python3.6/dist-packages/matplotlib/backends/backend_agg.py:183: RuntimeWarning: Glyph 21592 missing from current font.\n",
            "  font.set_text(s, 0, flags=flags)\n",
            "/usr/local/lib/python3.6/dist-packages/matplotlib/backends/backend_agg.py:183: RuntimeWarning: Glyph 24037 missing from current font.\n",
            "  font.set_text(s, 0, flags=flags)\n",
            "/usr/local/lib/python3.6/dist-packages/matplotlib/backends/backend_agg.py:183: RuntimeWarning: Glyph 31243 missing from current font.\n",
            "  font.set_text(s, 0, flags=flags)\n",
            "/usr/local/lib/python3.6/dist-packages/matplotlib/backends/backend_agg.py:183: RuntimeWarning: Glyph 24072 missing from current font.\n",
            "  font.set_text(s, 0, flags=flags)\n",
            "/usr/local/lib/python3.6/dist-packages/matplotlib/backends/backend_agg.py:183: RuntimeWarning: Glyph 25512 missing from current font.\n",
            "  font.set_text(s, 0, flags=flags)\n",
            "/usr/local/lib/python3.6/dist-packages/matplotlib/backends/backend_agg.py:183: RuntimeWarning: Glyph 38144 missing from current font.\n",
            "  font.set_text(s, 0, flags=flags)\n",
            "/usr/local/lib/python3.6/dist-packages/matplotlib/backends/backend_agg.py:183: RuntimeWarning: Glyph 20316 missing from current font.\n",
            "  font.set_text(s, 0, flags=flags)\n",
            "/usr/local/lib/python3.6/dist-packages/matplotlib/backends/backend_agg.py:183: RuntimeWarning: Glyph 32773 missing from current font.\n",
            "  font.set_text(s, 0, flags=flags)\n",
            "/usr/local/lib/python3.6/dist-packages/matplotlib/backends/backend_agg.py:183: RuntimeWarning: Glyph 35760 missing from current font.\n",
            "  font.set_text(s, 0, flags=flags)\n",
            "/usr/local/lib/python3.6/dist-packages/matplotlib/backends/backend_agg.py:183: RuntimeWarning: Glyph 20107 missing from current font.\n",
            "  font.set_text(s, 0, flags=flags)\n",
            "findfont: Font family ['SimHei'] not found. Falling back to DejaVu Sans.\n",
            "/usr/local/lib/python3.6/dist-packages/matplotlib/backends/backend_agg.py:214: RuntimeWarning: Glyph 38669 missing from current font.\n",
            "  font.set_text(s, 0.0, flags=flags)\n",
            "/usr/local/lib/python3.6/dist-packages/matplotlib/backends/backend_agg.py:214: RuntimeWarning: Glyph 20848 missing from current font.\n",
            "  font.set_text(s, 0.0, flags=flags)\n",
            "/usr/local/lib/python3.6/dist-packages/matplotlib/backends/backend_agg.py:214: RuntimeWarning: Glyph 24503 missing from current font.\n",
            "  font.set_text(s, 0.0, flags=flags)\n",
            "/usr/local/lib/python3.6/dist-packages/matplotlib/backends/backend_agg.py:214: RuntimeWarning: Glyph 20154 missing from current font.\n",
            "  font.set_text(s, 0.0, flags=flags)\n",
            "/usr/local/lib/python3.6/dist-packages/matplotlib/backends/backend_agg.py:214: RuntimeWarning: Glyph 26684 missing from current font.\n",
            "  font.set_text(s, 0.0, flags=flags)\n",
            "/usr/local/lib/python3.6/dist-packages/matplotlib/backends/backend_agg.py:214: RuntimeWarning: Glyph 20998 missing from current font.\n",
            "  font.set_text(s, 0.0, flags=flags)\n",
            "/usr/local/lib/python3.6/dist-packages/matplotlib/backends/backend_agg.py:214: RuntimeWarning: Glyph 26512 missing from current font.\n",
            "  font.set_text(s, 0.0, flags=flags)\n",
            "/usr/local/lib/python3.6/dist-packages/matplotlib/backends/backend_agg.py:183: RuntimeWarning: Glyph 38669 missing from current font.\n",
            "  font.set_text(s, 0, flags=flags)\n",
            "/usr/local/lib/python3.6/dist-packages/matplotlib/backends/backend_agg.py:183: RuntimeWarning: Glyph 20848 missing from current font.\n",
            "  font.set_text(s, 0, flags=flags)\n",
            "/usr/local/lib/python3.6/dist-packages/matplotlib/backends/backend_agg.py:183: RuntimeWarning: Glyph 24503 missing from current font.\n",
            "  font.set_text(s, 0, flags=flags)\n",
            "/usr/local/lib/python3.6/dist-packages/matplotlib/backends/backend_agg.py:183: RuntimeWarning: Glyph 20154 missing from current font.\n",
            "  font.set_text(s, 0, flags=flags)\n",
            "/usr/local/lib/python3.6/dist-packages/matplotlib/backends/backend_agg.py:183: RuntimeWarning: Glyph 26684 missing from current font.\n",
            "  font.set_text(s, 0, flags=flags)\n",
            "/usr/local/lib/python3.6/dist-packages/matplotlib/backends/backend_agg.py:183: RuntimeWarning: Glyph 20998 missing from current font.\n",
            "  font.set_text(s, 0, flags=flags)\n",
            "/usr/local/lib/python3.6/dist-packages/matplotlib/backends/backend_agg.py:183: RuntimeWarning: Glyph 26512 missing from current font.\n",
            "  font.set_text(s, 0, flags=flags)\n"
          ],
          "name": "stderr"
        },
        {
          "output_type": "display_data",
          "data": {
            "image/png": "[encoded data removed]",
            "text/plain": [
              "<Figure size 432x288 with 1 Axes>"
            ]
          },
          "metadata": {
            "tags": []
          }
        }
      ]
    },
    {
      "cell_type": "code",
      "metadata": {
        "id": "NIn4OlbMnYpH",
        "outputId": "c4b41c32-8abc-469d-9e66-4fb7b71e5d0d"
      },
      "source": [
        "import pandas as pd\n",
        "import numpy as np\n",
        "dates=pd.date_range('20130101',periods=6)\n",
        "dates"
      ],
      "execution_count": null,
      "outputs": [
        {
          "output_type": "execute_result",
          "data": {
            "text/plain": [
              "DatetimeIndex(['2013-01-01', '2013-01-02', '2013-01-03', '2013-01-04',\n",
              "               '2013-01-05', '2013-01-06'],\n",
              "              dtype='datetime64[ns]', freq='D')"
            ]
          },
          "metadata": {
            "tags": []
          },
          "execution_count": 1
        }
      ]
    },
    {
      "cell_type": "code",
      "metadata": {
        "id": "wmu5oNAPnYpH",
        "outputId": "ec2fed64-b84d-44ef-92e6-e5d8648d3271"
      },
      "source": [
        "df=pd.DataFrame(np.random.random((6,4)),index=dates,columns=list('ABCD'))\n",
        "df"
      ],
      "execution_count": null,
      "outputs": [
        {
          "output_type": "execute_result",
          "data": {
            "text/html": [
              "<div>\n",
              "<style scoped>\n",
              "    .dataframe tbody tr th:only-of-type {\n",
              "        vertical-align: middle;\n",
              "    }\n",
              "\n",
              "    .dataframe tbody tr th {\n",
              "        vertical-align: top;\n",
              "    }\n",
              "\n",
              "    .dataframe thead th {\n",
              "        text-align: right;\n",
              "    }\n",
              "</style>\n",
              "<table border=\"1\" class=\"dataframe\">\n",
              "  <thead>\n",
              "    <tr style=\"text-align: right;\">\n",
              "      <th></th>\n",
              "      <th>A</th>\n",
              "      <th>B</th>\n",
              "      <th>C</th>\n",
              "      <th>D</th>\n",
              "    </tr>\n",
              "  </thead>\n",
              "  <tbody>\n",
              "    <tr>\n",
              "      <th>2013-01-01</th>\n",
              "      <td>0.025696</td>\n",
              "      <td>0.209308</td>\n",
              "      <td>0.641229</td>\n",
              "      <td>0.308956</td>\n",
              "    </tr>\n",
              "    <tr>\n",
              "      <th>2013-01-02</th>\n",
              "      <td>0.974755</td>\n",
              "      <td>0.035760</td>\n",
              "      <td>0.091802</td>\n",
              "      <td>0.234448</td>\n",
              "    </tr>\n",
              "    <tr>\n",
              "      <th>2013-01-03</th>\n",
              "      <td>0.143307</td>\n",
              "      <td>0.365924</td>\n",
              "      <td>0.063885</td>\n",
              "      <td>0.348991</td>\n",
              "    </tr>\n",
              "    <tr>\n",
              "      <th>2013-01-04</th>\n",
              "      <td>0.157756</td>\n",
              "      <td>0.388775</td>\n",
              "      <td>0.219537</td>\n",
              "      <td>0.708698</td>\n",
              "    </tr>\n",
              "    <tr>\n",
              "      <th>2013-01-05</th>\n",
              "      <td>0.053429</td>\n",
              "      <td>0.973570</td>\n",
              "      <td>0.540312</td>\n",
              "      <td>0.556530</td>\n",
              "    </tr>\n",
              "    <tr>\n",
              "      <th>2013-01-06</th>\n",
              "      <td>0.163943</td>\n",
              "      <td>0.649561</td>\n",
              "      <td>0.422930</td>\n",
              "      <td>0.681859</td>\n",
              "    </tr>\n",
              "  </tbody>\n",
              "</table>\n",
              "</div>"
            ],
            "text/plain": [
              "                   A         B         C         D\n",
              "2013-01-01  0.025696  0.209308  0.641229  0.308956\n",
              "2013-01-02  0.974755  0.035760  0.091802  0.234448\n",
              "2013-01-03  0.143307  0.365924  0.063885  0.348991\n",
              "2013-01-04  0.157756  0.388775  0.219537  0.708698\n",
              "2013-01-05  0.053429  0.973570  0.540312  0.556530\n",
              "2013-01-06  0.163943  0.649561  0.422930  0.681859"
            ]
          },
          "metadata": {
            "tags": []
          },
          "execution_count": 6
        }
      ]
    },
    {
      "cell_type": "code",
      "metadata": {
        "id": "IFJWf-JPnYpH",
        "outputId": "9bf98cd0-e907-4823-d936-55067cab4c68"
      },
      "source": [
        "df2=pd.DataFrame({'A':1,\n",
        "                  'B':pd.Timestamp('20130102'),\n",
        "                  'C':np.array([3]*4,dtype='int32'),\n",
        "                  'D':pd.Categorical([\"test\",\"train\",\"test\",\"train\"]),\n",
        "                  'E':'foo' \n",
        "})\n",
        "df2"
      ],
      "execution_count": null,
      "outputs": [
        {
          "output_type": "execute_result",
          "data": {
            "text/html": [
              "<div>\n",
              "<style scoped>\n",
              "    .dataframe tbody tr th:only-of-type {\n",
              "        vertical-align: middle;\n",
              "    }\n",
              "\n",
              "    .dataframe tbody tr th {\n",
              "        vertical-align: top;\n",
              "    }\n",
              "\n",
              "    .dataframe thead th {\n",
              "        text-align: right;\n",
              "    }\n",
              "</style>\n",
              "<table border=\"1\" class=\"dataframe\">\n",
              "  <thead>\n",
              "    <tr style=\"text-align: right;\">\n",
              "      <th></th>\n",
              "      <th>A</th>\n",
              "      <th>B</th>\n",
              "      <th>C</th>\n",
              "      <th>D</th>\n",
              "      <th>E</th>\n",
              "    </tr>\n",
              "  </thead>\n",
              "  <tbody>\n",
              "    <tr>\n",
              "      <th>0</th>\n",
              "      <td>1</td>\n",
              "      <td>2013-01-02</td>\n",
              "      <td>3</td>\n",
              "      <td>test</td>\n",
              "      <td>foo</td>\n",
              "    </tr>\n",
              "    <tr>\n",
              "      <th>1</th>\n",
              "      <td>1</td>\n",
              "      <td>2013-01-02</td>\n",
              "      <td>3</td>\n",
              "      <td>train</td>\n",
              "      <td>foo</td>\n",
              "    </tr>\n",
              "    <tr>\n",
              "      <th>2</th>\n",
              "      <td>1</td>\n",
              "      <td>2013-01-02</td>\n",
              "      <td>3</td>\n",
              "      <td>test</td>\n",
              "      <td>foo</td>\n",
              "    </tr>\n",
              "    <tr>\n",
              "      <th>3</th>\n",
              "      <td>1</td>\n",
              "      <td>2013-01-02</td>\n",
              "      <td>3</td>\n",
              "      <td>train</td>\n",
              "      <td>foo</td>\n",
              "    </tr>\n",
              "  </tbody>\n",
              "</table>\n",
              "</div>"
            ],
            "text/plain": [
              "   A          B  C      D    E\n",
              "0  1 2013-01-02  3   test  foo\n",
              "1  1 2013-01-02  3  train  foo\n",
              "2  1 2013-01-02  3   test  foo\n",
              "3  1 2013-01-02  3  train  foo"
            ]
          },
          "metadata": {
            "tags": []
          },
          "execution_count": 13
        }
      ]
    },
    {
      "cell_type": "code",
      "metadata": {
        "id": "Lq0xbUg-nYpH",
        "outputId": "be25f581-bda4-442a-8574-2dad36bddf73"
      },
      "source": [
        "df2.dtypes"
      ],
      "execution_count": null,
      "outputs": [
        {
          "output_type": "execute_result",
          "data": {
            "text/plain": [
              "A             int64\n",
              "B    datetime64[ns]\n",
              "C             int32\n",
              "D          category\n",
              "E            object\n",
              "dtype: object"
            ]
          },
          "metadata": {
            "tags": []
          },
          "execution_count": 14
        }
      ]
    },
    {
      "cell_type": "code",
      "metadata": {
        "id": "oKB5oBmVnYpI",
        "outputId": "d4bde067-b811-4cd2-bb19-0af00a06872d"
      },
      "source": [
        "df.index"
      ],
      "execution_count": null,
      "outputs": [
        {
          "output_type": "execute_result",
          "data": {
            "text/plain": [
              "DatetimeIndex(['2013-01-01', '2013-01-02', '2013-01-03', '2013-01-04',\n",
              "               '2013-01-05', '2013-01-06'],\n",
              "              dtype='datetime64[ns]', freq='D')"
            ]
          },
          "metadata": {
            "tags": []
          },
          "execution_count": 15
        }
      ]
    },
    {
      "cell_type": "code",
      "metadata": {
        "id": "Utxp1gZHnYpI",
        "outputId": "2acd9f6a-6820-4b13-c4dc-fd26edaeab91"
      },
      "source": [
        "df.columns"
      ],
      "execution_count": null,
      "outputs": [
        {
          "output_type": "execute_result",
          "data": {
            "text/plain": [
              "Index(['A', 'B', 'C', 'D'], dtype='object')"
            ]
          },
          "metadata": {
            "tags": []
          },
          "execution_count": 16
        }
      ]
    },
    {
      "cell_type": "code",
      "metadata": {
        "id": "FDCN0rC1nYpI",
        "outputId": "4db9660a-4799-4f60-86a5-a86aa35c3084"
      },
      "source": [
        "df.to_numpy()"
      ],
      "execution_count": null,
      "outputs": [
        {
          "output_type": "execute_result",
          "data": {
            "text/plain": [
              "array([[0.02569552, 0.20930849, 0.64122949, 0.30895579],\n",
              "       [0.97475458, 0.03575984, 0.09180159, 0.2344478 ],\n",
              "       [0.14330678, 0.365924  , 0.06388451, 0.34899077],\n",
              "       [0.15775557, 0.38877529, 0.21953667, 0.70869837],\n",
              "       [0.05342854, 0.97357028, 0.54031226, 0.55652984],\n",
              "       [0.16394316, 0.64956116, 0.42292974, 0.68185876]])"
            ]
          },
          "metadata": {
            "tags": []
          },
          "execution_count": 17
        }
      ]
    },
    {
      "cell_type": "code",
      "metadata": {
        "id": "hmQktZNbnYpI",
        "outputId": "49361905-aee7-4575-cf30-54af5ebda669"
      },
      "source": [
        "df2.to_numpy()"
      ],
      "execution_count": null,
      "outputs": [
        {
          "output_type": "execute_result",
          "data": {
            "text/plain": [
              "array([[1, Timestamp('2013-01-02 00:00:00'), 3, 'test', 'foo'],\n",
              "       [1, Timestamp('2013-01-02 00:00:00'), 3, 'train', 'foo'],\n",
              "       [1, Timestamp('2013-01-02 00:00:00'), 3, 'test', 'foo'],\n",
              "       [1, Timestamp('2013-01-02 00:00:00'), 3, 'train', 'foo']],\n",
              "      dtype=object)"
            ]
          },
          "metadata": {
            "tags": []
          },
          "execution_count": 18
        }
      ]
    },
    {
      "cell_type": "code",
      "metadata": {
        "id": "htzTzTdMnYpI",
        "outputId": "fad6add1-9b70-46bd-ed20-7eb884aaf627"
      },
      "source": [
        "df.describe()"
      ],
      "execution_count": null,
      "outputs": [
        {
          "output_type": "execute_result",
          "data": {
            "text/html": [
              "<div>\n",
              "<style scoped>\n",
              "    .dataframe tbody tr th:only-of-type {\n",
              "        vertical-align: middle;\n",
              "    }\n",
              "\n",
              "    .dataframe tbody tr th {\n",
              "        vertical-align: top;\n",
              "    }\n",
              "\n",
              "    .dataframe thead th {\n",
              "        text-align: right;\n",
              "    }\n",
              "</style>\n",
              "<table border=\"1\" class=\"dataframe\">\n",
              "  <thead>\n",
              "    <tr style=\"text-align: right;\">\n",
              "      <th></th>\n",
              "      <th>A</th>\n",
              "      <th>B</th>\n",
              "      <th>C</th>\n",
              "      <th>D</th>\n",
              "    </tr>\n",
              "  </thead>\n",
              "  <tbody>\n",
              "    <tr>\n",
              "      <th>count</th>\n",
              "      <td>6.000000</td>\n",
              "      <td>6.000000</td>\n",
              "      <td>6.000000</td>\n",
              "      <td>6.000000</td>\n",
              "    </tr>\n",
              "    <tr>\n",
              "      <th>mean</th>\n",
              "      <td>0.253147</td>\n",
              "      <td>0.437150</td>\n",
              "      <td>0.329949</td>\n",
              "      <td>0.473247</td>\n",
              "    </tr>\n",
              "    <tr>\n",
              "      <th>std</th>\n",
              "      <td>0.358179</td>\n",
              "      <td>0.332657</td>\n",
              "      <td>0.240620</td>\n",
              "      <td>0.202657</td>\n",
              "    </tr>\n",
              "    <tr>\n",
              "      <th>min</th>\n",
              "      <td>0.025696</td>\n",
              "      <td>0.035760</td>\n",
              "      <td>0.063885</td>\n",
              "      <td>0.234448</td>\n",
              "    </tr>\n",
              "    <tr>\n",
              "      <th>25%</th>\n",
              "      <td>0.075898</td>\n",
              "      <td>0.248462</td>\n",
              "      <td>0.123735</td>\n",
              "      <td>0.318965</td>\n",
              "    </tr>\n",
              "    <tr>\n",
              "      <th>50%</th>\n",
              "      <td>0.150531</td>\n",
              "      <td>0.377350</td>\n",
              "      <td>0.321233</td>\n",
              "      <td>0.452760</td>\n",
              "    </tr>\n",
              "    <tr>\n",
              "      <th>75%</th>\n",
              "      <td>0.162396</td>\n",
              "      <td>0.584365</td>\n",
              "      <td>0.510967</td>\n",
              "      <td>0.650527</td>\n",
              "    </tr>\n",
              "    <tr>\n",
              "      <th>max</th>\n",
              "      <td>0.974755</td>\n",
              "      <td>0.973570</td>\n",
              "      <td>0.641229</td>\n",
              "      <td>0.708698</td>\n",
              "    </tr>\n",
              "  </tbody>\n",
              "</table>\n",
              "</div>"
            ],
            "text/plain": [
              "              A         B         C         D\n",
              "count  6.000000  6.000000  6.000000  6.000000\n",
              "mean   0.253147  0.437150  0.329949  0.473247\n",
              "std    0.358179  0.332657  0.240620  0.202657\n",
              "min    0.025696  0.035760  0.063885  0.234448\n",
              "25%    0.075898  0.248462  0.123735  0.318965\n",
              "50%    0.150531  0.377350  0.321233  0.452760\n",
              "75%    0.162396  0.584365  0.510967  0.650527\n",
              "max    0.974755  0.973570  0.641229  0.708698"
            ]
          },
          "metadata": {
            "tags": []
          },
          "execution_count": 19
        }
      ]
    },
    {
      "cell_type": "code",
      "metadata": {
        "id": "I99XSZM_nYpI",
        "outputId": "547f52ac-6c14-4f6e-be2f-7dfa0ed514f2"
      },
      "source": [
        "df.T"
      ],
      "execution_count": null,
      "outputs": [
        {
          "output_type": "execute_result",
          "data": {
            "text/html": [
              "<div>\n",
              "<style scoped>\n",
              "    .dataframe tbody tr th:only-of-type {\n",
              "        vertical-align: middle;\n",
              "    }\n",
              "\n",
              "    .dataframe tbody tr th {\n",
              "        vertical-align: top;\n",
              "    }\n",
              "\n",
              "    .dataframe thead th {\n",
              "        text-align: right;\n",
              "    }\n",
              "</style>\n",
              "<table border=\"1\" class=\"dataframe\">\n",
              "  <thead>\n",
              "    <tr style=\"text-align: right;\">\n",
              "      <th></th>\n",
              "      <th>2013-01-01</th>\n",
              "      <th>2013-01-02</th>\n",
              "      <th>2013-01-03</th>\n",
              "      <th>2013-01-04</th>\n",
              "      <th>2013-01-05</th>\n",
              "      <th>2013-01-06</th>\n",
              "    </tr>\n",
              "  </thead>\n",
              "  <tbody>\n",
              "    <tr>\n",
              "      <th>A</th>\n",
              "      <td>0.025696</td>\n",
              "      <td>0.974755</td>\n",
              "      <td>0.143307</td>\n",
              "      <td>0.157756</td>\n",
              "      <td>0.053429</td>\n",
              "      <td>0.163943</td>\n",
              "    </tr>\n",
              "    <tr>\n",
              "      <th>B</th>\n",
              "      <td>0.209308</td>\n",
              "      <td>0.035760</td>\n",
              "      <td>0.365924</td>\n",
              "      <td>0.388775</td>\n",
              "      <td>0.973570</td>\n",
              "      <td>0.649561</td>\n",
              "    </tr>\n",
              "    <tr>\n",
              "      <th>C</th>\n",
              "      <td>0.641229</td>\n",
              "      <td>0.091802</td>\n",
              "      <td>0.063885</td>\n",
              "      <td>0.219537</td>\n",
              "      <td>0.540312</td>\n",
              "      <td>0.422930</td>\n",
              "    </tr>\n",
              "    <tr>\n",
              "      <th>D</th>\n",
              "      <td>0.308956</td>\n",
              "      <td>0.234448</td>\n",
              "      <td>0.348991</td>\n",
              "      <td>0.708698</td>\n",
              "      <td>0.556530</td>\n",
              "      <td>0.681859</td>\n",
              "    </tr>\n",
              "  </tbody>\n",
              "</table>\n",
              "</div>"
            ],
            "text/plain": [
              "   2013-01-01  2013-01-02  2013-01-03  2013-01-04  2013-01-05  2013-01-06\n",
              "A    0.025696    0.974755    0.143307    0.157756    0.053429    0.163943\n",
              "B    0.209308    0.035760    0.365924    0.388775    0.973570    0.649561\n",
              "C    0.641229    0.091802    0.063885    0.219537    0.540312    0.422930\n",
              "D    0.308956    0.234448    0.348991    0.708698    0.556530    0.681859"
            ]
          },
          "metadata": {
            "tags": []
          },
          "execution_count": 20
        }
      ]
    },
    {
      "cell_type": "code",
      "metadata": {
        "id": "kUB_PHdcnYpI",
        "outputId": "ff0bf772-bb52-4565-9332-434d6baa0440"
      },
      "source": [
        "df.sort_index(axis=1,ascending=True)"
      ],
      "execution_count": null,
      "outputs": [
        {
          "output_type": "execute_result",
          "data": {
            "text/html": [
              "<div>\n",
              "<style scoped>\n",
              "    .dataframe tbody tr th:only-of-type {\n",
              "        vertical-align: middle;\n",
              "    }\n",
              "\n",
              "    .dataframe tbody tr th {\n",
              "        vertical-align: top;\n",
              "    }\n",
              "\n",
              "    .dataframe thead th {\n",
              "        text-align: right;\n",
              "    }\n",
              "</style>\n",
              "<table border=\"1\" class=\"dataframe\">\n",
              "  <thead>\n",
              "    <tr style=\"text-align: right;\">\n",
              "      <th></th>\n",
              "      <th>A</th>\n",
              "      <th>B</th>\n",
              "      <th>C</th>\n",
              "      <th>D</th>\n",
              "    </tr>\n",
              "  </thead>\n",
              "  <tbody>\n",
              "    <tr>\n",
              "      <th>2013-01-01</th>\n",
              "      <td>0.025696</td>\n",
              "      <td>0.209308</td>\n",
              "      <td>0.641229</td>\n",
              "      <td>0.308956</td>\n",
              "    </tr>\n",
              "    <tr>\n",
              "      <th>2013-01-02</th>\n",
              "      <td>0.974755</td>\n",
              "      <td>0.035760</td>\n",
              "      <td>0.091802</td>\n",
              "      <td>0.234448</td>\n",
              "    </tr>\n",
              "    <tr>\n",
              "      <th>2013-01-03</th>\n",
              "      <td>0.143307</td>\n",
              "      <td>0.365924</td>\n",
              "      <td>0.063885</td>\n",
              "      <td>0.348991</td>\n",
              "    </tr>\n",
              "    <tr>\n",
              "      <th>2013-01-04</th>\n",
              "      <td>0.157756</td>\n",
              "      <td>0.388775</td>\n",
              "      <td>0.219537</td>\n",
              "      <td>0.708698</td>\n",
              "    </tr>\n",
              "    <tr>\n",
              "      <th>2013-01-05</th>\n",
              "      <td>0.053429</td>\n",
              "      <td>0.973570</td>\n",
              "      <td>0.540312</td>\n",
              "      <td>0.556530</td>\n",
              "    </tr>\n",
              "    <tr>\n",
              "      <th>2013-01-06</th>\n",
              "      <td>0.163943</td>\n",
              "      <td>0.649561</td>\n",
              "      <td>0.422930</td>\n",
              "      <td>0.681859</td>\n",
              "    </tr>\n",
              "  </tbody>\n",
              "</table>\n",
              "</div>"
            ],
            "text/plain": [
              "                   A         B         C         D\n",
              "2013-01-01  0.025696  0.209308  0.641229  0.308956\n",
              "2013-01-02  0.974755  0.035760  0.091802  0.234448\n",
              "2013-01-03  0.143307  0.365924  0.063885  0.348991\n",
              "2013-01-04  0.157756  0.388775  0.219537  0.708698\n",
              "2013-01-05  0.053429  0.973570  0.540312  0.556530\n",
              "2013-01-06  0.163943  0.649561  0.422930  0.681859"
            ]
          },
          "metadata": {
            "tags": []
          },
          "execution_count": 22
        }
      ]
    },
    {
      "cell_type": "code",
      "metadata": {
        "id": "kMJMlycqnYpJ",
        "outputId": "8b02a476-d950-42b2-fcd5-69f96564cf32"
      },
      "source": [
        "df.sort_values(by='A',ascending=True)"
      ],
      "execution_count": null,
      "outputs": [
        {
          "output_type": "execute_result",
          "data": {
            "text/html": [
              "<div>\n",
              "<style scoped>\n",
              "    .dataframe tbody tr th:only-of-type {\n",
              "        vertical-align: middle;\n",
              "    }\n",
              "\n",
              "    .dataframe tbody tr th {\n",
              "        vertical-align: top;\n",
              "    }\n",
              "\n",
              "    .dataframe thead th {\n",
              "        text-align: right;\n",
              "    }\n",
              "</style>\n",
              "<table border=\"1\" class=\"dataframe\">\n",
              "  <thead>\n",
              "    <tr style=\"text-align: right;\">\n",
              "      <th></th>\n",
              "      <th>A</th>\n",
              "      <th>B</th>\n",
              "      <th>C</th>\n",
              "      <th>D</th>\n",
              "    </tr>\n",
              "  </thead>\n",
              "  <tbody>\n",
              "    <tr>\n",
              "      <th>2013-01-01</th>\n",
              "      <td>0.025696</td>\n",
              "      <td>0.209308</td>\n",
              "      <td>0.641229</td>\n",
              "      <td>0.308956</td>\n",
              "    </tr>\n",
              "    <tr>\n",
              "      <th>2013-01-05</th>\n",
              "      <td>0.053429</td>\n",
              "      <td>0.973570</td>\n",
              "      <td>0.540312</td>\n",
              "      <td>0.556530</td>\n",
              "    </tr>\n",
              "    <tr>\n",
              "      <th>2013-01-03</th>\n",
              "      <td>0.143307</td>\n",
              "      <td>0.365924</td>\n",
              "      <td>0.063885</td>\n",
              "      <td>0.348991</td>\n",
              "    </tr>\n",
              "    <tr>\n",
              "      <th>2013-01-04</th>\n",
              "      <td>0.157756</td>\n",
              "      <td>0.388775</td>\n",
              "      <td>0.219537</td>\n",
              "      <td>0.708698</td>\n",
              "    </tr>\n",
              "    <tr>\n",
              "      <th>2013-01-06</th>\n",
              "      <td>0.163943</td>\n",
              "      <td>0.649561</td>\n",
              "      <td>0.422930</td>\n",
              "      <td>0.681859</td>\n",
              "    </tr>\n",
              "    <tr>\n",
              "      <th>2013-01-02</th>\n",
              "      <td>0.974755</td>\n",
              "      <td>0.035760</td>\n",
              "      <td>0.091802</td>\n",
              "      <td>0.234448</td>\n",
              "    </tr>\n",
              "  </tbody>\n",
              "</table>\n",
              "</div>"
            ],
            "text/plain": [
              "                   A         B         C         D\n",
              "2013-01-01  0.025696  0.209308  0.641229  0.308956\n",
              "2013-01-05  0.053429  0.973570  0.540312  0.556530\n",
              "2013-01-03  0.143307  0.365924  0.063885  0.348991\n",
              "2013-01-04  0.157756  0.388775  0.219537  0.708698\n",
              "2013-01-06  0.163943  0.649561  0.422930  0.681859\n",
              "2013-01-02  0.974755  0.035760  0.091802  0.234448"
            ]
          },
          "metadata": {
            "tags": []
          },
          "execution_count": 27
        }
      ]
    },
    {
      "cell_type": "code",
      "metadata": {
        "id": "rkiNh2iOnYpJ",
        "outputId": "5ef3a325-fee0-4042-f296-66c834195fea"
      },
      "source": [
        "df['B']"
      ],
      "execution_count": null,
      "outputs": [
        {
          "output_type": "execute_result",
          "data": {
            "text/plain": [
              "2013-01-01    0.209308\n",
              "2013-01-02    0.035760\n",
              "2013-01-03    0.365924\n",
              "2013-01-04    0.388775\n",
              "2013-01-05    0.973570\n",
              "2013-01-06    0.649561\n",
              "Freq: D, Name: B, dtype: float64"
            ]
          },
          "metadata": {
            "tags": []
          },
          "execution_count": 28
        }
      ]
    },
    {
      "cell_type": "code",
      "metadata": {
        "id": "pvoOTAL6nYpJ",
        "outputId": "a70475ee-e8a7-4084-e5e6-371789665e44"
      },
      "source": [
        "df[0:3]"
      ],
      "execution_count": null,
      "outputs": [
        {
          "output_type": "execute_result",
          "data": {
            "text/html": [
              "<div>\n",
              "<style scoped>\n",
              "    .dataframe tbody tr th:only-of-type {\n",
              "        vertical-align: middle;\n",
              "    }\n",
              "\n",
              "    .dataframe tbody tr th {\n",
              "        vertical-align: top;\n",
              "    }\n",
              "\n",
              "    .dataframe thead th {\n",
              "        text-align: right;\n",
              "    }\n",
              "</style>\n",
              "<table border=\"1\" class=\"dataframe\">\n",
              "  <thead>\n",
              "    <tr style=\"text-align: right;\">\n",
              "      <th></th>\n",
              "      <th>A</th>\n",
              "      <th>B</th>\n",
              "      <th>C</th>\n",
              "      <th>D</th>\n",
              "    </tr>\n",
              "  </thead>\n",
              "  <tbody>\n",
              "    <tr>\n",
              "      <th>2013-01-01</th>\n",
              "      <td>0.025696</td>\n",
              "      <td>0.209308</td>\n",
              "      <td>0.641229</td>\n",
              "      <td>0.308956</td>\n",
              "    </tr>\n",
              "    <tr>\n",
              "      <th>2013-01-02</th>\n",
              "      <td>0.974755</td>\n",
              "      <td>0.035760</td>\n",
              "      <td>0.091802</td>\n",
              "      <td>0.234448</td>\n",
              "    </tr>\n",
              "    <tr>\n",
              "      <th>2013-01-03</th>\n",
              "      <td>0.143307</td>\n",
              "      <td>0.365924</td>\n",
              "      <td>0.063885</td>\n",
              "      <td>0.348991</td>\n",
              "    </tr>\n",
              "  </tbody>\n",
              "</table>\n",
              "</div>"
            ],
            "text/plain": [
              "                   A         B         C         D\n",
              "2013-01-01  0.025696  0.209308  0.641229  0.308956\n",
              "2013-01-02  0.974755  0.035760  0.091802  0.234448\n",
              "2013-01-03  0.143307  0.365924  0.063885  0.348991"
            ]
          },
          "metadata": {
            "tags": []
          },
          "execution_count": 29
        }
      ]
    },
    {
      "cell_type": "code",
      "metadata": {
        "id": "c3YAyuwSnYpJ",
        "outputId": "1448783c-95eb-4ae4-94e2-23d071dc784f"
      },
      "source": [
        "df['20130102':'20130104']"
      ],
      "execution_count": null,
      "outputs": [
        {
          "output_type": "execute_result",
          "data": {
            "text/html": [
              "<div>\n",
              "<style scoped>\n",
              "    .dataframe tbody tr th:only-of-type {\n",
              "        vertical-align: middle;\n",
              "    }\n",
              "\n",
              "    .dataframe tbody tr th {\n",
              "        vertical-align: top;\n",
              "    }\n",
              "\n",
              "    .dataframe thead th {\n",
              "        text-align: right;\n",
              "    }\n",
              "</style>\n",
              "<table border=\"1\" class=\"dataframe\">\n",
              "  <thead>\n",
              "    <tr style=\"text-align: right;\">\n",
              "      <th></th>\n",
              "      <th>A</th>\n",
              "      <th>B</th>\n",
              "      <th>C</th>\n",
              "      <th>D</th>\n",
              "    </tr>\n",
              "  </thead>\n",
              "  <tbody>\n",
              "    <tr>\n",
              "      <th>2013-01-02</th>\n",
              "      <td>0.974755</td>\n",
              "      <td>0.035760</td>\n",
              "      <td>0.091802</td>\n",
              "      <td>0.234448</td>\n",
              "    </tr>\n",
              "    <tr>\n",
              "      <th>2013-01-03</th>\n",
              "      <td>0.143307</td>\n",
              "      <td>0.365924</td>\n",
              "      <td>0.063885</td>\n",
              "      <td>0.348991</td>\n",
              "    </tr>\n",
              "    <tr>\n",
              "      <th>2013-01-04</th>\n",
              "      <td>0.157756</td>\n",
              "      <td>0.388775</td>\n",
              "      <td>0.219537</td>\n",
              "      <td>0.708698</td>\n",
              "    </tr>\n",
              "  </tbody>\n",
              "</table>\n",
              "</div>"
            ],
            "text/plain": [
              "                   A         B         C         D\n",
              "2013-01-02  0.974755  0.035760  0.091802  0.234448\n",
              "2013-01-03  0.143307  0.365924  0.063885  0.348991\n",
              "2013-01-04  0.157756  0.388775  0.219537  0.708698"
            ]
          },
          "metadata": {
            "tags": []
          },
          "execution_count": 32
        }
      ]
    },
    {
      "cell_type": "code",
      "metadata": {
        "id": "vvJ0QYOInYpJ",
        "outputId": "53c610f8-edd7-415d-cc5d-942dcf4840aa"
      },
      "source": [
        "df.loc[dates[0]]"
      ],
      "execution_count": null,
      "outputs": [
        {
          "output_type": "execute_result",
          "data": {
            "text/plain": [
              "A    0.025696\n",
              "B    0.209308\n",
              "C    0.641229\n",
              "D    0.308956\n",
              "Name: 2013-01-01 00:00:00, dtype: float64"
            ]
          },
          "metadata": {
            "tags": []
          },
          "execution_count": 33
        }
      ]
    },
    {
      "cell_type": "code",
      "metadata": {
        "id": "ZI4aia_SnYpJ",
        "outputId": "b13d02bd-36d5-403a-d92f-848b621a32e3"
      },
      "source": [
        "df.loc[:,['A','B']]"
      ],
      "execution_count": null,
      "outputs": [
        {
          "output_type": "execute_result",
          "data": {
            "text/html": [
              "<div>\n",
              "<style scoped>\n",
              "    .dataframe tbody tr th:only-of-type {\n",
              "        vertical-align: middle;\n",
              "    }\n",
              "\n",
              "    .dataframe tbody tr th {\n",
              "        vertical-align: top;\n",
              "    }\n",
              "\n",
              "    .dataframe thead th {\n",
              "        text-align: right;\n",
              "    }\n",
              "</style>\n",
              "<table border=\"1\" class=\"dataframe\">\n",
              "  <thead>\n",
              "    <tr style=\"text-align: right;\">\n",
              "      <th></th>\n",
              "      <th>A</th>\n",
              "      <th>B</th>\n",
              "    </tr>\n",
              "  </thead>\n",
              "  <tbody>\n",
              "    <tr>\n",
              "      <th>2013-01-01</th>\n",
              "      <td>0.025696</td>\n",
              "      <td>0.209308</td>\n",
              "    </tr>\n",
              "    <tr>\n",
              "      <th>2013-01-02</th>\n",
              "      <td>0.974755</td>\n",
              "      <td>0.035760</td>\n",
              "    </tr>\n",
              "    <tr>\n",
              "      <th>2013-01-03</th>\n",
              "      <td>0.143307</td>\n",
              "      <td>0.365924</td>\n",
              "    </tr>\n",
              "    <tr>\n",
              "      <th>2013-01-04</th>\n",
              "      <td>0.157756</td>\n",
              "      <td>0.388775</td>\n",
              "    </tr>\n",
              "    <tr>\n",
              "      <th>2013-01-05</th>\n",
              "      <td>0.053429</td>\n",
              "      <td>0.973570</td>\n",
              "    </tr>\n",
              "    <tr>\n",
              "      <th>2013-01-06</th>\n",
              "      <td>0.163943</td>\n",
              "      <td>0.649561</td>\n",
              "    </tr>\n",
              "  </tbody>\n",
              "</table>\n",
              "</div>"
            ],
            "text/plain": [
              "                   A         B\n",
              "2013-01-01  0.025696  0.209308\n",
              "2013-01-02  0.974755  0.035760\n",
              "2013-01-03  0.143307  0.365924\n",
              "2013-01-04  0.157756  0.388775\n",
              "2013-01-05  0.053429  0.973570\n",
              "2013-01-06  0.163943  0.649561"
            ]
          },
          "metadata": {
            "tags": []
          },
          "execution_count": 35
        }
      ]
    },
    {
      "cell_type": "code",
      "metadata": {
        "id": "HlO4CiFtnYpJ",
        "outputId": "bccd08ba-b869-473a-d881-478e774323f3"
      },
      "source": [
        "df.loc['20130102':'20130104', ['A', 'B']]"
      ],
      "execution_count": null,
      "outputs": [
        {
          "output_type": "execute_result",
          "data": {
            "text/html": [
              "<div>\n",
              "<style scoped>\n",
              "    .dataframe tbody tr th:only-of-type {\n",
              "        vertical-align: middle;\n",
              "    }\n",
              "\n",
              "    .dataframe tbody tr th {\n",
              "        vertical-align: top;\n",
              "    }\n",
              "\n",
              "    .dataframe thead th {\n",
              "        text-align: right;\n",
              "    }\n",
              "</style>\n",
              "<table border=\"1\" class=\"dataframe\">\n",
              "  <thead>\n",
              "    <tr style=\"text-align: right;\">\n",
              "      <th></th>\n",
              "      <th>A</th>\n",
              "      <th>B</th>\n",
              "    </tr>\n",
              "  </thead>\n",
              "  <tbody>\n",
              "    <tr>\n",
              "      <th>2013-01-02</th>\n",
              "      <td>0.974755</td>\n",
              "      <td>0.035760</td>\n",
              "    </tr>\n",
              "    <tr>\n",
              "      <th>2013-01-03</th>\n",
              "      <td>0.143307</td>\n",
              "      <td>0.365924</td>\n",
              "    </tr>\n",
              "    <tr>\n",
              "      <th>2013-01-04</th>\n",
              "      <td>0.157756</td>\n",
              "      <td>0.388775</td>\n",
              "    </tr>\n",
              "  </tbody>\n",
              "</table>\n",
              "</div>"
            ],
            "text/plain": [
              "                   A         B\n",
              "2013-01-02  0.974755  0.035760\n",
              "2013-01-03  0.143307  0.365924\n",
              "2013-01-04  0.157756  0.388775"
            ]
          },
          "metadata": {
            "tags": []
          },
          "execution_count": 36
        }
      ]
    },
    {
      "cell_type": "code",
      "metadata": {
        "id": "9cgaW4wknYpJ",
        "outputId": "8455fa05-cb72-4971-abf3-f1b73260d3f4"
      },
      "source": [
        "df.loc[dates[0],'A']"
      ],
      "execution_count": null,
      "outputs": [
        {
          "output_type": "execute_result",
          "data": {
            "text/plain": [
              "0.02569551971963857"
            ]
          },
          "metadata": {
            "tags": []
          },
          "execution_count": 37
        }
      ]
    },
    {
      "cell_type": "code",
      "metadata": {
        "id": "FIS39P5nnYpJ",
        "outputId": "2a6fbfc2-de0d-4b98-c13b-f01c7f6fe50f"
      },
      "source": [
        "df[df.A > 0]"
      ],
      "execution_count": null,
      "outputs": [
        {
          "output_type": "execute_result",
          "data": {
            "text/html": [
              "<div>\n",
              "<style scoped>\n",
              "    .dataframe tbody tr th:only-of-type {\n",
              "        vertical-align: middle;\n",
              "    }\n",
              "\n",
              "    .dataframe tbody tr th {\n",
              "        vertical-align: top;\n",
              "    }\n",
              "\n",
              "    .dataframe thead th {\n",
              "        text-align: right;\n",
              "    }\n",
              "</style>\n",
              "<table border=\"1\" class=\"dataframe\">\n",
              "  <thead>\n",
              "    <tr style=\"text-align: right;\">\n",
              "      <th></th>\n",
              "      <th>A</th>\n",
              "      <th>B</th>\n",
              "      <th>C</th>\n",
              "      <th>D</th>\n",
              "    </tr>\n",
              "  </thead>\n",
              "  <tbody>\n",
              "    <tr>\n",
              "      <th>2013-01-01</th>\n",
              "      <td>0.025696</td>\n",
              "      <td>0.209308</td>\n",
              "      <td>0.641229</td>\n",
              "      <td>0.308956</td>\n",
              "    </tr>\n",
              "    <tr>\n",
              "      <th>2013-01-02</th>\n",
              "      <td>0.974755</td>\n",
              "      <td>0.035760</td>\n",
              "      <td>0.091802</td>\n",
              "      <td>0.234448</td>\n",
              "    </tr>\n",
              "    <tr>\n",
              "      <th>2013-01-03</th>\n",
              "      <td>0.143307</td>\n",
              "      <td>0.365924</td>\n",
              "      <td>0.063885</td>\n",
              "      <td>0.348991</td>\n",
              "    </tr>\n",
              "    <tr>\n",
              "      <th>2013-01-04</th>\n",
              "      <td>0.157756</td>\n",
              "      <td>0.388775</td>\n",
              "      <td>0.219537</td>\n",
              "      <td>0.708698</td>\n",
              "    </tr>\n",
              "    <tr>\n",
              "      <th>2013-01-05</th>\n",
              "      <td>0.053429</td>\n",
              "      <td>0.973570</td>\n",
              "      <td>0.540312</td>\n",
              "      <td>0.556530</td>\n",
              "    </tr>\n",
              "    <tr>\n",
              "      <th>2013-01-06</th>\n",
              "      <td>0.163943</td>\n",
              "      <td>0.649561</td>\n",
              "      <td>0.422930</td>\n",
              "      <td>0.681859</td>\n",
              "    </tr>\n",
              "  </tbody>\n",
              "</table>\n",
              "</div>"
            ],
            "text/plain": [
              "                   A         B         C         D\n",
              "2013-01-01  0.025696  0.209308  0.641229  0.308956\n",
              "2013-01-02  0.974755  0.035760  0.091802  0.234448\n",
              "2013-01-03  0.143307  0.365924  0.063885  0.348991\n",
              "2013-01-04  0.157756  0.388775  0.219537  0.708698\n",
              "2013-01-05  0.053429  0.973570  0.540312  0.556530\n",
              "2013-01-06  0.163943  0.649561  0.422930  0.681859"
            ]
          },
          "metadata": {
            "tags": []
          },
          "execution_count": 38
        }
      ]
    },
    {
      "cell_type": "code",
      "metadata": {
        "id": "nBRWdl7VnYpJ",
        "outputId": "5c4f1e98-c3f7-466b-c37c-562504ef63e1"
      },
      "source": [
        "df[df > 0]"
      ],
      "execution_count": null,
      "outputs": [
        {
          "output_type": "execute_result",
          "data": {
            "text/html": [
              "<div>\n",
              "<style scoped>\n",
              "    .dataframe tbody tr th:only-of-type {\n",
              "        vertical-align: middle;\n",
              "    }\n",
              "\n",
              "    .dataframe tbody tr th {\n",
              "        vertical-align: top;\n",
              "    }\n",
              "\n",
              "    .dataframe thead th {\n",
              "        text-align: right;\n",
              "    }\n",
              "</style>\n",
              "<table border=\"1\" class=\"dataframe\">\n",
              "  <thead>\n",
              "    <tr style=\"text-align: right;\">\n",
              "      <th></th>\n",
              "      <th>A</th>\n",
              "      <th>B</th>\n",
              "      <th>C</th>\n",
              "      <th>D</th>\n",
              "    </tr>\n",
              "  </thead>\n",
              "  <tbody>\n",
              "    <tr>\n",
              "      <th>2013-01-01</th>\n",
              "      <td>0.025696</td>\n",
              "      <td>0.209308</td>\n",
              "      <td>0.641229</td>\n",
              "      <td>0.308956</td>\n",
              "    </tr>\n",
              "    <tr>\n",
              "      <th>2013-01-02</th>\n",
              "      <td>0.974755</td>\n",
              "      <td>0.035760</td>\n",
              "      <td>0.091802</td>\n",
              "      <td>0.234448</td>\n",
              "    </tr>\n",
              "    <tr>\n",
              "      <th>2013-01-03</th>\n",
              "      <td>0.143307</td>\n",
              "      <td>0.365924</td>\n",
              "      <td>0.063885</td>\n",
              "      <td>0.348991</td>\n",
              "    </tr>\n",
              "    <tr>\n",
              "      <th>2013-01-04</th>\n",
              "      <td>0.157756</td>\n",
              "      <td>0.388775</td>\n",
              "      <td>0.219537</td>\n",
              "      <td>0.708698</td>\n",
              "    </tr>\n",
              "    <tr>\n",
              "      <th>2013-01-05</th>\n",
              "      <td>0.053429</td>\n",
              "      <td>0.973570</td>\n",
              "      <td>0.540312</td>\n",
              "      <td>0.556530</td>\n",
              "    </tr>\n",
              "    <tr>\n",
              "      <th>2013-01-06</th>\n",
              "      <td>0.163943</td>\n",
              "      <td>0.649561</td>\n",
              "      <td>0.422930</td>\n",
              "      <td>0.681859</td>\n",
              "    </tr>\n",
              "  </tbody>\n",
              "</table>\n",
              "</div>"
            ],
            "text/plain": [
              "                   A         B         C         D\n",
              "2013-01-01  0.025696  0.209308  0.641229  0.308956\n",
              "2013-01-02  0.974755  0.035760  0.091802  0.234448\n",
              "2013-01-03  0.143307  0.365924  0.063885  0.348991\n",
              "2013-01-04  0.157756  0.388775  0.219537  0.708698\n",
              "2013-01-05  0.053429  0.973570  0.540312  0.556530\n",
              "2013-01-06  0.163943  0.649561  0.422930  0.681859"
            ]
          },
          "metadata": {
            "tags": []
          },
          "execution_count": 39
        }
      ]
    },
    {
      "cell_type": "code",
      "metadata": {
        "id": "Oocnl_VznYpJ"
      },
      "source": [
        "df2=df.copy()"
      ],
      "execution_count": null,
      "outputs": []
    },
    {
      "cell_type": "code",
      "metadata": {
        "id": "hcB_zcC8nYpJ"
      },
      "source": [
        "df2['E']=['one', 'one', 'two', 'three', 'four', 'three']"
      ],
      "execution_count": null,
      "outputs": []
    },
    {
      "cell_type": "code",
      "metadata": {
        "id": "xmzKmltEnYpJ",
        "outputId": "f2b464ab-b91c-46cc-ec2a-8f38a0d92282"
      },
      "source": [
        "df2"
      ],
      "execution_count": null,
      "outputs": [
        {
          "output_type": "execute_result",
          "data": {
            "text/html": [
              "<div>\n",
              "<style scoped>\n",
              "    .dataframe tbody tr th:only-of-type {\n",
              "        vertical-align: middle;\n",
              "    }\n",
              "\n",
              "    .dataframe tbody tr th {\n",
              "        vertical-align: top;\n",
              "    }\n",
              "\n",
              "    .dataframe thead th {\n",
              "        text-align: right;\n",
              "    }\n",
              "</style>\n",
              "<table border=\"1\" class=\"dataframe\">\n",
              "  <thead>\n",
              "    <tr style=\"text-align: right;\">\n",
              "      <th></th>\n",
              "      <th>A</th>\n",
              "      <th>B</th>\n",
              "      <th>C</th>\n",
              "      <th>D</th>\n",
              "      <th>E</th>\n",
              "    </tr>\n",
              "  </thead>\n",
              "  <tbody>\n",
              "    <tr>\n",
              "      <th>2013-01-01</th>\n",
              "      <td>0.025696</td>\n",
              "      <td>0.209308</td>\n",
              "      <td>0.641229</td>\n",
              "      <td>0.308956</td>\n",
              "      <td>one</td>\n",
              "    </tr>\n",
              "    <tr>\n",
              "      <th>2013-01-02</th>\n",
              "      <td>0.974755</td>\n",
              "      <td>0.035760</td>\n",
              "      <td>0.091802</td>\n",
              "      <td>0.234448</td>\n",
              "      <td>one</td>\n",
              "    </tr>\n",
              "    <tr>\n",
              "      <th>2013-01-03</th>\n",
              "      <td>0.143307</td>\n",
              "      <td>0.365924</td>\n",
              "      <td>0.063885</td>\n",
              "      <td>0.348991</td>\n",
              "      <td>two</td>\n",
              "    </tr>\n",
              "    <tr>\n",
              "      <th>2013-01-04</th>\n",
              "      <td>0.157756</td>\n",
              "      <td>0.388775</td>\n",
              "      <td>0.219537</td>\n",
              "      <td>0.708698</td>\n",
              "      <td>three</td>\n",
              "    </tr>\n",
              "    <tr>\n",
              "      <th>2013-01-05</th>\n",
              "      <td>0.053429</td>\n",
              "      <td>0.973570</td>\n",
              "      <td>0.540312</td>\n",
              "      <td>0.556530</td>\n",
              "      <td>four</td>\n",
              "    </tr>\n",
              "    <tr>\n",
              "      <th>2013-01-06</th>\n",
              "      <td>0.163943</td>\n",
              "      <td>0.649561</td>\n",
              "      <td>0.422930</td>\n",
              "      <td>0.681859</td>\n",
              "      <td>three</td>\n",
              "    </tr>\n",
              "  </tbody>\n",
              "</table>\n",
              "</div>"
            ],
            "text/plain": [
              "                   A         B         C         D      E\n",
              "2013-01-01  0.025696  0.209308  0.641229  0.308956    one\n",
              "2013-01-02  0.974755  0.035760  0.091802  0.234448    one\n",
              "2013-01-03  0.143307  0.365924  0.063885  0.348991    two\n",
              "2013-01-04  0.157756  0.388775  0.219537  0.708698  three\n",
              "2013-01-05  0.053429  0.973570  0.540312  0.556530   four\n",
              "2013-01-06  0.163943  0.649561  0.422930  0.681859  three"
            ]
          },
          "metadata": {
            "tags": []
          },
          "execution_count": 43
        }
      ]
    },
    {
      "cell_type": "code",
      "metadata": {
        "id": "nL-SgY9ynYpJ",
        "outputId": "d78b4f82-938d-4452-f902-5471fe726420"
      },
      "source": [
        "df2[df2['E'].isin(['two', 'four'])]"
      ],
      "execution_count": null,
      "outputs": [
        {
          "output_type": "execute_result",
          "data": {
            "text/html": [
              "<div>\n",
              "<style scoped>\n",
              "    .dataframe tbody tr th:only-of-type {\n",
              "        vertical-align: middle;\n",
              "    }\n",
              "\n",
              "    .dataframe tbody tr th {\n",
              "        vertical-align: top;\n",
              "    }\n",
              "\n",
              "    .dataframe thead th {\n",
              "        text-align: right;\n",
              "    }\n",
              "</style>\n",
              "<table border=\"1\" class=\"dataframe\">\n",
              "  <thead>\n",
              "    <tr style=\"text-align: right;\">\n",
              "      <th></th>\n",
              "      <th>A</th>\n",
              "      <th>B</th>\n",
              "      <th>C</th>\n",
              "      <th>D</th>\n",
              "      <th>E</th>\n",
              "    </tr>\n",
              "  </thead>\n",
              "  <tbody>\n",
              "    <tr>\n",
              "      <th>2013-01-03</th>\n",
              "      <td>0.143307</td>\n",
              "      <td>0.365924</td>\n",
              "      <td>0.063885</td>\n",
              "      <td>0.348991</td>\n",
              "      <td>two</td>\n",
              "    </tr>\n",
              "    <tr>\n",
              "      <th>2013-01-05</th>\n",
              "      <td>0.053429</td>\n",
              "      <td>0.973570</td>\n",
              "      <td>0.540312</td>\n",
              "      <td>0.556530</td>\n",
              "      <td>four</td>\n",
              "    </tr>\n",
              "  </tbody>\n",
              "</table>\n",
              "</div>"
            ],
            "text/plain": [
              "                   A         B         C         D     E\n",
              "2013-01-03  0.143307  0.365924  0.063885  0.348991   two\n",
              "2013-01-05  0.053429  0.973570  0.540312  0.556530  four"
            ]
          },
          "metadata": {
            "tags": []
          },
          "execution_count": 44
        }
      ]
    },
    {
      "cell_type": "code",
      "metadata": {
        "id": "D_q59M-DnYpJ"
      },
      "source": [
        "s1 = pd.Series([1, 2, 3, 4, 5, 6], index=pd.date_range('20130102', periods=6))"
      ],
      "execution_count": null,
      "outputs": []
    },
    {
      "cell_type": "code",
      "metadata": {
        "id": "b3eZJg0MnYpJ",
        "outputId": "ab6b79ec-dcf0-42e4-c9dd-231c3bb3611b"
      },
      "source": [
        "s1"
      ],
      "execution_count": null,
      "outputs": [
        {
          "output_type": "execute_result",
          "data": {
            "text/plain": [
              "2013-01-02    1\n",
              "2013-01-03    2\n",
              "2013-01-04    3\n",
              "2013-01-05    4\n",
              "2013-01-06    5\n",
              "2013-01-07    6\n",
              "Freq: D, dtype: int64"
            ]
          },
          "metadata": {
            "tags": []
          },
          "execution_count": 46
        }
      ]
    },
    {
      "cell_type": "code",
      "metadata": {
        "id": "rwsYWDJ9nYpJ",
        "outputId": "f40c821a-84f4-45be-ccdb-cf2d61e0fd24"
      },
      "source": [
        "df['F']=s1\n",
        "df"
      ],
      "execution_count": null,
      "outputs": [
        {
          "output_type": "execute_result",
          "data": {
            "text/html": [
              "<div>\n",
              "<style scoped>\n",
              "    .dataframe tbody tr th:only-of-type {\n",
              "        vertical-align: middle;\n",
              "    }\n",
              "\n",
              "    .dataframe tbody tr th {\n",
              "        vertical-align: top;\n",
              "    }\n",
              "\n",
              "    .dataframe thead th {\n",
              "        text-align: right;\n",
              "    }\n",
              "</style>\n",
              "<table border=\"1\" class=\"dataframe\">\n",
              "  <thead>\n",
              "    <tr style=\"text-align: right;\">\n",
              "      <th></th>\n",
              "      <th>A</th>\n",
              "      <th>B</th>\n",
              "      <th>C</th>\n",
              "      <th>D</th>\n",
              "      <th>F</th>\n",
              "    </tr>\n",
              "  </thead>\n",
              "  <tbody>\n",
              "    <tr>\n",
              "      <th>2013-01-01</th>\n",
              "      <td>0.025696</td>\n",
              "      <td>0.209308</td>\n",
              "      <td>0.641229</td>\n",
              "      <td>0.308956</td>\n",
              "      <td>NaN</td>\n",
              "    </tr>\n",
              "    <tr>\n",
              "      <th>2013-01-02</th>\n",
              "      <td>0.974755</td>\n",
              "      <td>0.035760</td>\n",
              "      <td>0.091802</td>\n",
              "      <td>0.234448</td>\n",
              "      <td>1.0</td>\n",
              "    </tr>\n",
              "    <tr>\n",
              "      <th>2013-01-03</th>\n",
              "      <td>0.143307</td>\n",
              "      <td>0.365924</td>\n",
              "      <td>0.063885</td>\n",
              "      <td>0.348991</td>\n",
              "      <td>2.0</td>\n",
              "    </tr>\n",
              "    <tr>\n",
              "      <th>2013-01-04</th>\n",
              "      <td>0.157756</td>\n",
              "      <td>0.388775</td>\n",
              "      <td>0.219537</td>\n",
              "      <td>0.708698</td>\n",
              "      <td>3.0</td>\n",
              "    </tr>\n",
              "    <tr>\n",
              "      <th>2013-01-05</th>\n",
              "      <td>0.053429</td>\n",
              "      <td>0.973570</td>\n",
              "      <td>0.540312</td>\n",
              "      <td>0.556530</td>\n",
              "      <td>4.0</td>\n",
              "    </tr>\n",
              "    <tr>\n",
              "      <th>2013-01-06</th>\n",
              "      <td>0.163943</td>\n",
              "      <td>0.649561</td>\n",
              "      <td>0.422930</td>\n",
              "      <td>0.681859</td>\n",
              "      <td>5.0</td>\n",
              "    </tr>\n",
              "  </tbody>\n",
              "</table>\n",
              "</div>"
            ],
            "text/plain": [
              "                   A         B         C         D    F\n",
              "2013-01-01  0.025696  0.209308  0.641229  0.308956  NaN\n",
              "2013-01-02  0.974755  0.035760  0.091802  0.234448  1.0\n",
              "2013-01-03  0.143307  0.365924  0.063885  0.348991  2.0\n",
              "2013-01-04  0.157756  0.388775  0.219537  0.708698  3.0\n",
              "2013-01-05  0.053429  0.973570  0.540312  0.556530  4.0\n",
              "2013-01-06  0.163943  0.649561  0.422930  0.681859  5.0"
            ]
          },
          "metadata": {
            "tags": []
          },
          "execution_count": 48
        }
      ]
    },
    {
      "cell_type": "code",
      "metadata": {
        "id": "M6IWzM7rnYpJ"
      },
      "source": [
        "df = pd.DataFrame(np.random.randn(10, 4))"
      ],
      "execution_count": null,
      "outputs": []
    },
    {
      "cell_type": "code",
      "metadata": {
        "id": "LnbeFRIanYpJ"
      },
      "source": [
        "pieces = [df[:3], df[3:7], df[7:]]"
      ],
      "execution_count": null,
      "outputs": []
    },
    {
      "cell_type": "code",
      "metadata": {
        "id": "2ELakyT4nYpJ",
        "outputId": "7ab0fe70-187a-4062-a75b-272eb763ea56"
      },
      "source": [
        "pd.concat(pieces)"
      ],
      "execution_count": null,
      "outputs": [
        {
          "output_type": "execute_result",
          "data": {
            "text/html": [
              "<div>\n",
              "<style scoped>\n",
              "    .dataframe tbody tr th:only-of-type {\n",
              "        vertical-align: middle;\n",
              "    }\n",
              "\n",
              "    .dataframe tbody tr th {\n",
              "        vertical-align: top;\n",
              "    }\n",
              "\n",
              "    .dataframe thead th {\n",
              "        text-align: right;\n",
              "    }\n",
              "</style>\n",
              "<table border=\"1\" class=\"dataframe\">\n",
              "  <thead>\n",
              "    <tr style=\"text-align: right;\">\n",
              "      <th></th>\n",
              "      <th>0</th>\n",
              "      <th>1</th>\n",
              "      <th>2</th>\n",
              "      <th>3</th>\n",
              "    </tr>\n",
              "  </thead>\n",
              "  <tbody>\n",
              "    <tr>\n",
              "      <th>0</th>\n",
              "      <td>0.835621</td>\n",
              "      <td>0.654839</td>\n",
              "      <td>-0.651977</td>\n",
              "      <td>-0.107391</td>\n",
              "    </tr>\n",
              "    <tr>\n",
              "      <th>1</th>\n",
              "      <td>-0.585908</td>\n",
              "      <td>-0.437338</td>\n",
              "      <td>0.881225</td>\n",
              "      <td>-1.200962</td>\n",
              "    </tr>\n",
              "    <tr>\n",
              "      <th>2</th>\n",
              "      <td>0.751638</td>\n",
              "      <td>-0.658033</td>\n",
              "      <td>-0.706456</td>\n",
              "      <td>1.307238</td>\n",
              "    </tr>\n",
              "    <tr>\n",
              "      <th>3</th>\n",
              "      <td>-0.625112</td>\n",
              "      <td>-0.818618</td>\n",
              "      <td>0.582807</td>\n",
              "      <td>-0.697209</td>\n",
              "    </tr>\n",
              "    <tr>\n",
              "      <th>4</th>\n",
              "      <td>0.290680</td>\n",
              "      <td>-0.160354</td>\n",
              "      <td>0.093376</td>\n",
              "      <td>-0.669934</td>\n",
              "    </tr>\n",
              "    <tr>\n",
              "      <th>5</th>\n",
              "      <td>-0.158358</td>\n",
              "      <td>0.980602</td>\n",
              "      <td>0.483169</td>\n",
              "      <td>0.886695</td>\n",
              "    </tr>\n",
              "    <tr>\n",
              "      <th>6</th>\n",
              "      <td>1.935964</td>\n",
              "      <td>3.031772</td>\n",
              "      <td>-0.067539</td>\n",
              "      <td>0.860844</td>\n",
              "    </tr>\n",
              "    <tr>\n",
              "      <th>7</th>\n",
              "      <td>1.830343</td>\n",
              "      <td>-0.581305</td>\n",
              "      <td>0.321288</td>\n",
              "      <td>0.953063</td>\n",
              "    </tr>\n",
              "    <tr>\n",
              "      <th>8</th>\n",
              "      <td>1.069032</td>\n",
              "      <td>1.597839</td>\n",
              "      <td>0.121116</td>\n",
              "      <td>-1.385973</td>\n",
              "    </tr>\n",
              "    <tr>\n",
              "      <th>9</th>\n",
              "      <td>-0.941437</td>\n",
              "      <td>0.336968</td>\n",
              "      <td>-0.248486</td>\n",
              "      <td>-1.311891</td>\n",
              "    </tr>\n",
              "  </tbody>\n",
              "</table>\n",
              "</div>"
            ],
            "text/plain": [
              "          0         1         2         3\n",
              "0  0.835621  0.654839 -0.651977 -0.107391\n",
              "1 -0.585908 -0.437338  0.881225 -1.200962\n",
              "2  0.751638 -0.658033 -0.706456  1.307238\n",
              "3 -0.625112 -0.818618  0.582807 -0.697209\n",
              "4  0.290680 -0.160354  0.093376 -0.669934\n",
              "5 -0.158358  0.980602  0.483169  0.886695\n",
              "6  1.935964  3.031772 -0.067539  0.860844\n",
              "7  1.830343 -0.581305  0.321288  0.953063\n",
              "8  1.069032  1.597839  0.121116 -1.385973\n",
              "9 -0.941437  0.336968 -0.248486 -1.311891"
            ]
          },
          "metadata": {
            "tags": []
          },
          "execution_count": 55
        }
      ]
    },
    {
      "cell_type": "code",
      "metadata": {
        "id": "RJhdQxQUnYpJ",
        "outputId": "e18c4620-0c45-4437-a206-30943159e2a6"
      },
      "source": [
        "left = pd.DataFrame({'key': ['foo', 'foo'], 'lval': [1, 2]})\n",
        "left"
      ],
      "execution_count": null,
      "outputs": [
        {
          "output_type": "execute_result",
          "data": {
            "text/html": [
              "<div>\n",
              "<style scoped>\n",
              "    .dataframe tbody tr th:only-of-type {\n",
              "        vertical-align: middle;\n",
              "    }\n",
              "\n",
              "    .dataframe tbody tr th {\n",
              "        vertical-align: top;\n",
              "    }\n",
              "\n",
              "    .dataframe thead th {\n",
              "        text-align: right;\n",
              "    }\n",
              "</style>\n",
              "<table border=\"1\" class=\"dataframe\">\n",
              "  <thead>\n",
              "    <tr style=\"text-align: right;\">\n",
              "      <th></th>\n",
              "      <th>key</th>\n",
              "      <th>lval</th>\n",
              "    </tr>\n",
              "  </thead>\n",
              "  <tbody>\n",
              "    <tr>\n",
              "      <th>0</th>\n",
              "      <td>foo</td>\n",
              "      <td>1</td>\n",
              "    </tr>\n",
              "    <tr>\n",
              "      <th>1</th>\n",
              "      <td>foo</td>\n",
              "      <td>2</td>\n",
              "    </tr>\n",
              "  </tbody>\n",
              "</table>\n",
              "</div>"
            ],
            "text/plain": [
              "   key  lval\n",
              "0  foo     1\n",
              "1  foo     2"
            ]
          },
          "metadata": {
            "tags": []
          },
          "execution_count": 56
        }
      ]
    },
    {
      "cell_type": "code",
      "metadata": {
        "id": "5HSr79E_nYpJ",
        "outputId": "321a8da1-cda6-49b7-9bb4-528dc2a8d0d2"
      },
      "source": [
        "right = pd.DataFrame({'key': ['foo', 'foo'], 'rval': [4, 5]})\n",
        "right"
      ],
      "execution_count": null,
      "outputs": [
        {
          "output_type": "execute_result",
          "data": {
            "text/html": [
              "<div>\n",
              "<style scoped>\n",
              "    .dataframe tbody tr th:only-of-type {\n",
              "        vertical-align: middle;\n",
              "    }\n",
              "\n",
              "    .dataframe tbody tr th {\n",
              "        vertical-align: top;\n",
              "    }\n",
              "\n",
              "    .dataframe thead th {\n",
              "        text-align: right;\n",
              "    }\n",
              "</style>\n",
              "<table border=\"1\" class=\"dataframe\">\n",
              "  <thead>\n",
              "    <tr style=\"text-align: right;\">\n",
              "      <th></th>\n",
              "      <th>key</th>\n",
              "      <th>rval</th>\n",
              "    </tr>\n",
              "  </thead>\n",
              "  <tbody>\n",
              "    <tr>\n",
              "      <th>0</th>\n",
              "      <td>foo</td>\n",
              "      <td>4</td>\n",
              "    </tr>\n",
              "    <tr>\n",
              "      <th>1</th>\n",
              "      <td>foo</td>\n",
              "      <td>5</td>\n",
              "    </tr>\n",
              "  </tbody>\n",
              "</table>\n",
              "</div>"
            ],
            "text/plain": [
              "   key  rval\n",
              "0  foo     4\n",
              "1  foo     5"
            ]
          },
          "metadata": {
            "tags": []
          },
          "execution_count": 57
        }
      ]
    },
    {
      "cell_type": "code",
      "metadata": {
        "id": "W8j2zYXEnYpJ",
        "outputId": "3083854a-31ba-4996-db56-c16f87373ef4"
      },
      "source": [
        "pd.merge(left, right, on='key')"
      ],
      "execution_count": null,
      "outputs": [
        {
          "output_type": "execute_result",
          "data": {
            "text/html": [
              "<div>\n",
              "<style scoped>\n",
              "    .dataframe tbody tr th:only-of-type {\n",
              "        vertical-align: middle;\n",
              "    }\n",
              "\n",
              "    .dataframe tbody tr th {\n",
              "        vertical-align: top;\n",
              "    }\n",
              "\n",
              "    .dataframe thead th {\n",
              "        text-align: right;\n",
              "    }\n",
              "</style>\n",
              "<table border=\"1\" class=\"dataframe\">\n",
              "  <thead>\n",
              "    <tr style=\"text-align: right;\">\n",
              "      <th></th>\n",
              "      <th>key</th>\n",
              "      <th>lval</th>\n",
              "      <th>rval</th>\n",
              "    </tr>\n",
              "  </thead>\n",
              "  <tbody>\n",
              "    <tr>\n",
              "      <th>0</th>\n",
              "      <td>foo</td>\n",
              "      <td>1</td>\n",
              "      <td>4</td>\n",
              "    </tr>\n",
              "    <tr>\n",
              "      <th>1</th>\n",
              "      <td>foo</td>\n",
              "      <td>1</td>\n",
              "      <td>5</td>\n",
              "    </tr>\n",
              "    <tr>\n",
              "      <th>2</th>\n",
              "      <td>foo</td>\n",
              "      <td>2</td>\n",
              "      <td>4</td>\n",
              "    </tr>\n",
              "    <tr>\n",
              "      <th>3</th>\n",
              "      <td>foo</td>\n",
              "      <td>2</td>\n",
              "      <td>5</td>\n",
              "    </tr>\n",
              "  </tbody>\n",
              "</table>\n",
              "</div>"
            ],
            "text/plain": [
              "   key  lval  rval\n",
              "0  foo     1     4\n",
              "1  foo     1     5\n",
              "2  foo     2     4\n",
              "3  foo     2     5"
            ]
          },
          "metadata": {
            "tags": []
          },
          "execution_count": 58
        }
      ]
    },
    {
      "cell_type": "code",
      "metadata": {
        "id": "cbkdBj3inYpK",
        "outputId": "8b27f2c2-b71a-4715-8076-ce35de749f42"
      },
      "source": [
        "df = pd.DataFrame(np.random.randn(8, 4), columns=['A', 'B', 'C', 'D'])\n",
        "df"
      ],
      "execution_count": null,
      "outputs": [
        {
          "output_type": "execute_result",
          "data": {
            "text/html": [
              "<div>\n",
              "<style scoped>\n",
              "    .dataframe tbody tr th:only-of-type {\n",
              "        vertical-align: middle;\n",
              "    }\n",
              "\n",
              "    .dataframe tbody tr th {\n",
              "        vertical-align: top;\n",
              "    }\n",
              "\n",
              "    .dataframe thead th {\n",
              "        text-align: right;\n",
              "    }\n",
              "</style>\n",
              "<table border=\"1\" class=\"dataframe\">\n",
              "  <thead>\n",
              "    <tr style=\"text-align: right;\">\n",
              "      <th></th>\n",
              "      <th>A</th>\n",
              "      <th>B</th>\n",
              "      <th>C</th>\n",
              "      <th>D</th>\n",
              "    </tr>\n",
              "  </thead>\n",
              "  <tbody>\n",
              "    <tr>\n",
              "      <th>0</th>\n",
              "      <td>0.311029</td>\n",
              "      <td>-1.161507</td>\n",
              "      <td>-0.800277</td>\n",
              "      <td>-0.397262</td>\n",
              "    </tr>\n",
              "    <tr>\n",
              "      <th>1</th>\n",
              "      <td>-0.066799</td>\n",
              "      <td>0.570841</td>\n",
              "      <td>-0.254376</td>\n",
              "      <td>-0.414885</td>\n",
              "    </tr>\n",
              "    <tr>\n",
              "      <th>2</th>\n",
              "      <td>-1.560996</td>\n",
              "      <td>1.542829</td>\n",
              "      <td>1.248637</td>\n",
              "      <td>-0.497314</td>\n",
              "    </tr>\n",
              "    <tr>\n",
              "      <th>3</th>\n",
              "      <td>0.255712</td>\n",
              "      <td>-0.290753</td>\n",
              "      <td>-1.347246</td>\n",
              "      <td>-0.392700</td>\n",
              "    </tr>\n",
              "    <tr>\n",
              "      <th>4</th>\n",
              "      <td>0.634366</td>\n",
              "      <td>0.548710</td>\n",
              "      <td>0.416946</td>\n",
              "      <td>-0.949380</td>\n",
              "    </tr>\n",
              "    <tr>\n",
              "      <th>5</th>\n",
              "      <td>0.486174</td>\n",
              "      <td>0.121384</td>\n",
              "      <td>-1.889147</td>\n",
              "      <td>0.602285</td>\n",
              "    </tr>\n",
              "    <tr>\n",
              "      <th>6</th>\n",
              "      <td>1.871620</td>\n",
              "      <td>0.022462</td>\n",
              "      <td>0.437476</td>\n",
              "      <td>-0.498679</td>\n",
              "    </tr>\n",
              "    <tr>\n",
              "      <th>7</th>\n",
              "      <td>-0.458398</td>\n",
              "      <td>-1.089289</td>\n",
              "      <td>-0.630482</td>\n",
              "      <td>-0.408424</td>\n",
              "    </tr>\n",
              "  </tbody>\n",
              "</table>\n",
              "</div>"
            ],
            "text/plain": [
              "          A         B         C         D\n",
              "0  0.311029 -1.161507 -0.800277 -0.397262\n",
              "1 -0.066799  0.570841 -0.254376 -0.414885\n",
              "2 -1.560996  1.542829  1.248637 -0.497314\n",
              "3  0.255712 -0.290753 -1.347246 -0.392700\n",
              "4  0.634366  0.548710  0.416946 -0.949380\n",
              "5  0.486174  0.121384 -1.889147  0.602285\n",
              "6  1.871620  0.022462  0.437476 -0.498679\n",
              "7 -0.458398 -1.089289 -0.630482 -0.408424"
            ]
          },
          "metadata": {
            "tags": []
          },
          "execution_count": 59
        }
      ]
    },
    {
      "cell_type": "code",
      "metadata": {
        "id": "lHm1dV-RnYpK",
        "outputId": "666670a7-899c-4f52-a156-2c5edc961059"
      },
      "source": [
        "s = df.iloc[3]\n",
        "s"
      ],
      "execution_count": null,
      "outputs": [
        {
          "output_type": "execute_result",
          "data": {
            "text/plain": [
              "A    0.255712\n",
              "B   -0.290753\n",
              "C   -1.347246\n",
              "D   -0.392700\n",
              "Name: 3, dtype: float64"
            ]
          },
          "metadata": {
            "tags": []
          },
          "execution_count": 60
        }
      ]
    },
    {
      "cell_type": "code",
      "metadata": {
        "id": "h0nv8yJ6nYpK",
        "outputId": "5426b085-1030-42e6-cc3a-6a33463f5c4b"
      },
      "source": [
        "df.append(s, ignore_index=True)"
      ],
      "execution_count": null,
      "outputs": [
        {
          "output_type": "execute_result",
          "data": {
            "text/html": [
              "<div>\n",
              "<style scoped>\n",
              "    .dataframe tbody tr th:only-of-type {\n",
              "        vertical-align: middle;\n",
              "    }\n",
              "\n",
              "    .dataframe tbody tr th {\n",
              "        vertical-align: top;\n",
              "    }\n",
              "\n",
              "    .dataframe thead th {\n",
              "        text-align: right;\n",
              "    }\n",
              "</style>\n",
              "<table border=\"1\" class=\"dataframe\">\n",
              "  <thead>\n",
              "    <tr style=\"text-align: right;\">\n",
              "      <th></th>\n",
              "      <th>A</th>\n",
              "      <th>B</th>\n",
              "      <th>C</th>\n",
              "      <th>D</th>\n",
              "    </tr>\n",
              "  </thead>\n",
              "  <tbody>\n",
              "    <tr>\n",
              "      <th>0</th>\n",
              "      <td>0.311029</td>\n",
              "      <td>-1.161507</td>\n",
              "      <td>-0.800277</td>\n",
              "      <td>-0.397262</td>\n",
              "    </tr>\n",
              "    <tr>\n",
              "      <th>1</th>\n",
              "      <td>-0.066799</td>\n",
              "      <td>0.570841</td>\n",
              "      <td>-0.254376</td>\n",
              "      <td>-0.414885</td>\n",
              "    </tr>\n",
              "    <tr>\n",
              "      <th>2</th>\n",
              "      <td>-1.560996</td>\n",
              "      <td>1.542829</td>\n",
              "      <td>1.248637</td>\n",
              "      <td>-0.497314</td>\n",
              "    </tr>\n",
              "    <tr>\n",
              "      <th>3</th>\n",
              "      <td>0.255712</td>\n",
              "      <td>-0.290753</td>\n",
              "      <td>-1.347246</td>\n",
              "      <td>-0.392700</td>\n",
              "    </tr>\n",
              "    <tr>\n",
              "      <th>4</th>\n",
              "      <td>0.634366</td>\n",
              "      <td>0.548710</td>\n",
              "      <td>0.416946</td>\n",
              "      <td>-0.949380</td>\n",
              "    </tr>\n",
              "    <tr>\n",
              "      <th>5</th>\n",
              "      <td>0.486174</td>\n",
              "      <td>0.121384</td>\n",
              "      <td>-1.889147</td>\n",
              "      <td>0.602285</td>\n",
              "    </tr>\n",
              "    <tr>\n",
              "      <th>6</th>\n",
              "      <td>1.871620</td>\n",
              "      <td>0.022462</td>\n",
              "      <td>0.437476</td>\n",
              "      <td>-0.498679</td>\n",
              "    </tr>\n",
              "    <tr>\n",
              "      <th>7</th>\n",
              "      <td>-0.458398</td>\n",
              "      <td>-1.089289</td>\n",
              "      <td>-0.630482</td>\n",
              "      <td>-0.408424</td>\n",
              "    </tr>\n",
              "    <tr>\n",
              "      <th>8</th>\n",
              "      <td>0.255712</td>\n",
              "      <td>-0.290753</td>\n",
              "      <td>-1.347246</td>\n",
              "      <td>-0.392700</td>\n",
              "    </tr>\n",
              "  </tbody>\n",
              "</table>\n",
              "</div>"
            ],
            "text/plain": [
              "          A         B         C         D\n",
              "0  0.311029 -1.161507 -0.800277 -0.397262\n",
              "1 -0.066799  0.570841 -0.254376 -0.414885\n",
              "2 -1.560996  1.542829  1.248637 -0.497314\n",
              "3  0.255712 -0.290753 -1.347246 -0.392700\n",
              "4  0.634366  0.548710  0.416946 -0.949380\n",
              "5  0.486174  0.121384 -1.889147  0.602285\n",
              "6  1.871620  0.022462  0.437476 -0.498679\n",
              "7 -0.458398 -1.089289 -0.630482 -0.408424\n",
              "8  0.255712 -0.290753 -1.347246 -0.392700"
            ]
          },
          "metadata": {
            "tags": []
          },
          "execution_count": 61
        }
      ]
    },
    {
      "cell_type": "code",
      "metadata": {
        "id": "IjIe8J9znYpK",
        "outputId": "e3f032fd-3dfa-4b04-d167-3960b9ce0d3e"
      },
      "source": [
        "df = pd.DataFrame({'A': ['foo', 'bar', 'foo', 'bar',\n",
        "   ....:                          'foo', 'bar', 'foo', 'foo'],\n",
        "   ....:                    'B': ['one', 'one', 'two', 'three',\n",
        "   ....:                          'two', 'two', 'one', 'three'],\n",
        "   ....:                    'C': np.random.randn(8),\n",
        "   ....:                    'D': np.random.randn(8)})\n",
        "df"
      ],
      "execution_count": null,
      "outputs": [
        {
          "output_type": "execute_result",
          "data": {
            "text/html": [
              "<div>\n",
              "<style scoped>\n",
              "    .dataframe tbody tr th:only-of-type {\n",
              "        vertical-align: middle;\n",
              "    }\n",
              "\n",
              "    .dataframe tbody tr th {\n",
              "        vertical-align: top;\n",
              "    }\n",
              "\n",
              "    .dataframe thead th {\n",
              "        text-align: right;\n",
              "    }\n",
              "</style>\n",
              "<table border=\"1\" class=\"dataframe\">\n",
              "  <thead>\n",
              "    <tr style=\"text-align: right;\">\n",
              "      <th></th>\n",
              "      <th>A</th>\n",
              "      <th>B</th>\n",
              "      <th>C</th>\n",
              "      <th>D</th>\n",
              "    </tr>\n",
              "  </thead>\n",
              "  <tbody>\n",
              "    <tr>\n",
              "      <th>0</th>\n",
              "      <td>foo</td>\n",
              "      <td>one</td>\n",
              "      <td>0.379896</td>\n",
              "      <td>1.230047</td>\n",
              "    </tr>\n",
              "    <tr>\n",
              "      <th>1</th>\n",
              "      <td>bar</td>\n",
              "      <td>one</td>\n",
              "      <td>2.023157</td>\n",
              "      <td>0.891861</td>\n",
              "    </tr>\n",
              "    <tr>\n",
              "      <th>2</th>\n",
              "      <td>foo</td>\n",
              "      <td>two</td>\n",
              "      <td>-0.405299</td>\n",
              "      <td>-1.118809</td>\n",
              "    </tr>\n",
              "    <tr>\n",
              "      <th>3</th>\n",
              "      <td>bar</td>\n",
              "      <td>three</td>\n",
              "      <td>0.259531</td>\n",
              "      <td>-0.658819</td>\n",
              "    </tr>\n",
              "    <tr>\n",
              "      <th>4</th>\n",
              "      <td>foo</td>\n",
              "      <td>two</td>\n",
              "      <td>-0.956454</td>\n",
              "      <td>0.349175</td>\n",
              "    </tr>\n",
              "    <tr>\n",
              "      <th>5</th>\n",
              "      <td>bar</td>\n",
              "      <td>two</td>\n",
              "      <td>-1.207103</td>\n",
              "      <td>-1.111088</td>\n",
              "    </tr>\n",
              "    <tr>\n",
              "      <th>6</th>\n",
              "      <td>foo</td>\n",
              "      <td>one</td>\n",
              "      <td>-0.640075</td>\n",
              "      <td>0.486413</td>\n",
              "    </tr>\n",
              "    <tr>\n",
              "      <th>7</th>\n",
              "      <td>foo</td>\n",
              "      <td>three</td>\n",
              "      <td>0.868755</td>\n",
              "      <td>2.125147</td>\n",
              "    </tr>\n",
              "  </tbody>\n",
              "</table>\n",
              "</div>"
            ],
            "text/plain": [
              "     A      B         C         D\n",
              "0  foo    one  0.379896  1.230047\n",
              "1  bar    one  2.023157  0.891861\n",
              "2  foo    two -0.405299 -1.118809\n",
              "3  bar  three  0.259531 -0.658819\n",
              "4  foo    two -0.956454  0.349175\n",
              "5  bar    two -1.207103 -1.111088\n",
              "6  foo    one -0.640075  0.486413\n",
              "7  foo  three  0.868755  2.125147"
            ]
          },
          "metadata": {
            "tags": []
          },
          "execution_count": 63
        }
      ]
    },
    {
      "cell_type": "code",
      "metadata": {
        "id": "OxgUEtlTnYpK",
        "outputId": "169c5d91-3428-40aa-d55e-90b5da4b8d7e"
      },
      "source": [
        "df.groupby('A').sum()"
      ],
      "execution_count": null,
      "outputs": [
        {
          "output_type": "execute_result",
          "data": {
            "text/html": [
              "<div>\n",
              "<style scoped>\n",
              "    .dataframe tbody tr th:only-of-type {\n",
              "        vertical-align: middle;\n",
              "    }\n",
              "\n",
              "    .dataframe tbody tr th {\n",
              "        vertical-align: top;\n",
              "    }\n",
              "\n",
              "    .dataframe thead th {\n",
              "        text-align: right;\n",
              "    }\n",
              "</style>\n",
              "<table border=\"1\" class=\"dataframe\">\n",
              "  <thead>\n",
              "    <tr style=\"text-align: right;\">\n",
              "      <th></th>\n",
              "      <th>C</th>\n",
              "      <th>D</th>\n",
              "    </tr>\n",
              "    <tr>\n",
              "      <th>A</th>\n",
              "      <th></th>\n",
              "      <th></th>\n",
              "    </tr>\n",
              "  </thead>\n",
              "  <tbody>\n",
              "    <tr>\n",
              "      <th>bar</th>\n",
              "      <td>1.075585</td>\n",
              "      <td>-0.878046</td>\n",
              "    </tr>\n",
              "    <tr>\n",
              "      <th>foo</th>\n",
              "      <td>-0.753177</td>\n",
              "      <td>3.071974</td>\n",
              "    </tr>\n",
              "  </tbody>\n",
              "</table>\n",
              "</div>"
            ],
            "text/plain": [
              "            C         D\n",
              "A                      \n",
              "bar  1.075585 -0.878046\n",
              "foo -0.753177  3.071974"
            ]
          },
          "metadata": {
            "tags": []
          },
          "execution_count": 64
        }
      ]
    },
    {
      "cell_type": "code",
      "metadata": {
        "id": "jB9JIysPnYpK",
        "outputId": "ddcfda25-47a5-440d-eaf6-8016d363fe16"
      },
      "source": [
        "df.groupby('A').max()"
      ],
      "execution_count": null,
      "outputs": [
        {
          "output_type": "execute_result",
          "data": {
            "text/html": [
              "<div>\n",
              "<style scoped>\n",
              "    .dataframe tbody tr th:only-of-type {\n",
              "        vertical-align: middle;\n",
              "    }\n",
              "\n",
              "    .dataframe tbody tr th {\n",
              "        vertical-align: top;\n",
              "    }\n",
              "\n",
              "    .dataframe thead th {\n",
              "        text-align: right;\n",
              "    }\n",
              "</style>\n",
              "<table border=\"1\" class=\"dataframe\">\n",
              "  <thead>\n",
              "    <tr style=\"text-align: right;\">\n",
              "      <th></th>\n",
              "      <th>B</th>\n",
              "      <th>C</th>\n",
              "      <th>D</th>\n",
              "    </tr>\n",
              "    <tr>\n",
              "      <th>A</th>\n",
              "      <th></th>\n",
              "      <th></th>\n",
              "      <th></th>\n",
              "    </tr>\n",
              "  </thead>\n",
              "  <tbody>\n",
              "    <tr>\n",
              "      <th>bar</th>\n",
              "      <td>two</td>\n",
              "      <td>2.023157</td>\n",
              "      <td>0.891861</td>\n",
              "    </tr>\n",
              "    <tr>\n",
              "      <th>foo</th>\n",
              "      <td>two</td>\n",
              "      <td>0.868755</td>\n",
              "      <td>2.125147</td>\n",
              "    </tr>\n",
              "  </tbody>\n",
              "</table>\n",
              "</div>"
            ],
            "text/plain": [
              "       B         C         D\n",
              "A                           \n",
              "bar  two  2.023157  0.891861\n",
              "foo  two  0.868755  2.125147"
            ]
          },
          "metadata": {
            "tags": []
          },
          "execution_count": 65
        }
      ]
    },
    {
      "cell_type": "code",
      "metadata": {
        "id": "UmAHpxm3nYpK",
        "outputId": "1c316084-7ef0-414d-d33e-76c02755dc09"
      },
      "source": [
        " tuples = list(zip(*[['bar', 'bar', 'baz', 'baz',\n",
        "   ....:                      'foo', 'foo', 'qux', 'qux'],\n",
        "   ....:                     ['one', 'two', 'one', 'two',\n",
        "   ....:                      'one', 'two', 'one', 'two']]))\n",
        "tuples"
      ],
      "execution_count": null,
      "outputs": [
        {
          "output_type": "execute_result",
          "data": {
            "text/plain": [
              "[('bar', 'one'),\n",
              " ('bar', 'two'),\n",
              " ('baz', 'one'),\n",
              " ('baz', 'two'),\n",
              " ('foo', 'one'),\n",
              " ('foo', 'two'),\n",
              " ('qux', 'one'),\n",
              " ('qux', 'two')]"
            ]
          },
          "metadata": {
            "tags": []
          },
          "execution_count": 71
        }
      ]
    },
    {
      "cell_type": "code",
      "metadata": {
        "id": "Ti6vaXhZnYpK"
      },
      "source": [
        "index = pd.MultiIndex.from_tuples(tuples, names=['first', 'second'])"
      ],
      "execution_count": null,
      "outputs": []
    },
    {
      "cell_type": "code",
      "metadata": {
        "id": "f-QaW6JenYpK"
      },
      "source": [
        "df = pd.DataFrame(np.random.randn(8, 2), index=index, columns=['A', 'B'])"
      ],
      "execution_count": null,
      "outputs": []
    },
    {
      "cell_type": "code",
      "metadata": {
        "id": "SRchIk-BnYpK"
      },
      "source": [
        "df2 = df[:4]"
      ],
      "execution_count": null,
      "outputs": []
    },
    {
      "cell_type": "code",
      "metadata": {
        "id": "5QOqCHOUnYpK",
        "outputId": "d985867f-ff53-43a9-e270-bb77f4a09de4"
      },
      "source": [
        "df2"
      ],
      "execution_count": null,
      "outputs": [
        {
          "output_type": "execute_result",
          "data": {
            "text/html": [
              "<div>\n",
              "<style scoped>\n",
              "    .dataframe tbody tr th:only-of-type {\n",
              "        vertical-align: middle;\n",
              "    }\n",
              "\n",
              "    .dataframe tbody tr th {\n",
              "        vertical-align: top;\n",
              "    }\n",
              "\n",
              "    .dataframe thead th {\n",
              "        text-align: right;\n",
              "    }\n",
              "</style>\n",
              "<table border=\"1\" class=\"dataframe\">\n",
              "  <thead>\n",
              "    <tr style=\"text-align: right;\">\n",
              "      <th></th>\n",
              "      <th></th>\n",
              "      <th>A</th>\n",
              "      <th>B</th>\n",
              "    </tr>\n",
              "    <tr>\n",
              "      <th>first</th>\n",
              "      <th>second</th>\n",
              "      <th></th>\n",
              "      <th></th>\n",
              "    </tr>\n",
              "  </thead>\n",
              "  <tbody>\n",
              "    <tr>\n",
              "      <th rowspan=\"2\" valign=\"top\">bar</th>\n",
              "      <th>one</th>\n",
              "      <td>-0.307544</td>\n",
              "      <td>1.338258</td>\n",
              "    </tr>\n",
              "    <tr>\n",
              "      <th>two</th>\n",
              "      <td>-0.382635</td>\n",
              "      <td>0.526352</td>\n",
              "    </tr>\n",
              "    <tr>\n",
              "      <th rowspan=\"2\" valign=\"top\">baz</th>\n",
              "      <th>one</th>\n",
              "      <td>0.683255</td>\n",
              "      <td>-0.807346</td>\n",
              "    </tr>\n",
              "    <tr>\n",
              "      <th>two</th>\n",
              "      <td>1.986029</td>\n",
              "      <td>-2.316619</td>\n",
              "    </tr>\n",
              "  </tbody>\n",
              "</table>\n",
              "</div>"
            ],
            "text/plain": [
              "                     A         B\n",
              "first second                    \n",
              "bar   one    -0.307544  1.338258\n",
              "      two    -0.382635  0.526352\n",
              "baz   one     0.683255 -0.807346\n",
              "      two     1.986029 -2.316619"
            ]
          },
          "metadata": {
            "tags": []
          },
          "execution_count": 70
        }
      ]
    },
    {
      "cell_type": "code",
      "metadata": {
        "id": "Ta4DGOt9nYpK",
        "outputId": "8ee0544f-79ba-452b-f0f3-74fcf4a39792"
      },
      "source": [
        "stacked = df2.stack()\n",
        "stacked"
      ],
      "execution_count": null,
      "outputs": [
        {
          "output_type": "execute_result",
          "data": {
            "text/plain": [
              "first  second   \n",
              "bar    one     A   -0.307544\n",
              "               B    1.338258\n",
              "       two     A   -0.382635\n",
              "               B    0.526352\n",
              "baz    one     A    0.683255\n",
              "               B   -0.807346\n",
              "       two     A    1.986029\n",
              "               B   -2.316619\n",
              "dtype: float64"
            ]
          },
          "metadata": {
            "tags": []
          },
          "execution_count": 72
        }
      ]
    },
    {
      "cell_type": "code",
      "metadata": {
        "id": "mBJD7nt8nYpK",
        "outputId": "dc258f12-1996-4327-f1a6-63590a84fe34"
      },
      "source": [
        "df = pd.DataFrame({'A': ['one', 'one', 'two', 'three'] * 3,\n",
        "   .....:                    'B': ['A', 'B', 'C'] * 4,\n",
        "   .....:                    'C': ['foo', 'foo', 'foo', 'bar', 'bar', 'bar'] * 2,\n",
        "   .....:                    'D': np.random.randn(12),\n",
        "   .....:                    'E': np.random.randn(12)})\n",
        "df"
      ],
      "execution_count": null,
      "outputs": [
        {
          "output_type": "execute_result",
          "data": {
            "text/html": [
              "<div>\n",
              "<style scoped>\n",
              "    .dataframe tbody tr th:only-of-type {\n",
              "        vertical-align: middle;\n",
              "    }\n",
              "\n",
              "    .dataframe tbody tr th {\n",
              "        vertical-align: top;\n",
              "    }\n",
              "\n",
              "    .dataframe thead th {\n",
              "        text-align: right;\n",
              "    }\n",
              "</style>\n",
              "<table border=\"1\" class=\"dataframe\">\n",
              "  <thead>\n",
              "    <tr style=\"text-align: right;\">\n",
              "      <th></th>\n",
              "      <th>A</th>\n",
              "      <th>B</th>\n",
              "      <th>C</th>\n",
              "      <th>D</th>\n",
              "      <th>E</th>\n",
              "    </tr>\n",
              "  </thead>\n",
              "  <tbody>\n",
              "    <tr>\n",
              "      <th>0</th>\n",
              "      <td>one</td>\n",
              "      <td>A</td>\n",
              "      <td>foo</td>\n",
              "      <td>-1.175000</td>\n",
              "      <td>-3.039285</td>\n",
              "    </tr>\n",
              "    <tr>\n",
              "      <th>1</th>\n",
              "      <td>one</td>\n",
              "      <td>B</td>\n",
              "      <td>foo</td>\n",
              "      <td>-0.343639</td>\n",
              "      <td>0.330431</td>\n",
              "    </tr>\n",
              "    <tr>\n",
              "      <th>2</th>\n",
              "      <td>two</td>\n",
              "      <td>C</td>\n",
              "      <td>foo</td>\n",
              "      <td>2.699147</td>\n",
              "      <td>1.358560</td>\n",
              "    </tr>\n",
              "    <tr>\n",
              "      <th>3</th>\n",
              "      <td>three</td>\n",
              "      <td>A</td>\n",
              "      <td>bar</td>\n",
              "      <td>0.479134</td>\n",
              "      <td>1.050748</td>\n",
              "    </tr>\n",
              "    <tr>\n",
              "      <th>4</th>\n",
              "      <td>one</td>\n",
              "      <td>B</td>\n",
              "      <td>bar</td>\n",
              "      <td>-1.020652</td>\n",
              "      <td>1.851867</td>\n",
              "    </tr>\n",
              "    <tr>\n",
              "      <th>5</th>\n",
              "      <td>one</td>\n",
              "      <td>C</td>\n",
              "      <td>bar</td>\n",
              "      <td>-0.025347</td>\n",
              "      <td>-0.039019</td>\n",
              "    </tr>\n",
              "    <tr>\n",
              "      <th>6</th>\n",
              "      <td>two</td>\n",
              "      <td>A</td>\n",
              "      <td>foo</td>\n",
              "      <td>0.966323</td>\n",
              "      <td>-1.474913</td>\n",
              "    </tr>\n",
              "    <tr>\n",
              "      <th>7</th>\n",
              "      <td>three</td>\n",
              "      <td>B</td>\n",
              "      <td>foo</td>\n",
              "      <td>0.765850</td>\n",
              "      <td>1.378528</td>\n",
              "    </tr>\n",
              "    <tr>\n",
              "      <th>8</th>\n",
              "      <td>one</td>\n",
              "      <td>C</td>\n",
              "      <td>foo</td>\n",
              "      <td>0.251488</td>\n",
              "      <td>-0.416313</td>\n",
              "    </tr>\n",
              "    <tr>\n",
              "      <th>9</th>\n",
              "      <td>one</td>\n",
              "      <td>A</td>\n",
              "      <td>bar</td>\n",
              "      <td>0.454621</td>\n",
              "      <td>0.217319</td>\n",
              "    </tr>\n",
              "    <tr>\n",
              "      <th>10</th>\n",
              "      <td>two</td>\n",
              "      <td>B</td>\n",
              "      <td>bar</td>\n",
              "      <td>0.540094</td>\n",
              "      <td>-0.163414</td>\n",
              "    </tr>\n",
              "    <tr>\n",
              "      <th>11</th>\n",
              "      <td>three</td>\n",
              "      <td>C</td>\n",
              "      <td>bar</td>\n",
              "      <td>-1.022884</td>\n",
              "      <td>1.019106</td>\n",
              "    </tr>\n",
              "  </tbody>\n",
              "</table>\n",
              "</div>"
            ],
            "text/plain": [
              "        A  B    C         D         E\n",
              "0     one  A  foo -1.175000 -3.039285\n",
              "1     one  B  foo -0.343639  0.330431\n",
              "2     two  C  foo  2.699147  1.358560\n",
              "3   three  A  bar  0.479134  1.050748\n",
              "4     one  B  bar -1.020652  1.851867\n",
              "5     one  C  bar -0.025347 -0.039019\n",
              "6     two  A  foo  0.966323 -1.474913\n",
              "7   three  B  foo  0.765850  1.378528\n",
              "8     one  C  foo  0.251488 -0.416313\n",
              "9     one  A  bar  0.454621  0.217319\n",
              "10    two  B  bar  0.540094 -0.163414\n",
              "11  three  C  bar -1.022884  1.019106"
            ]
          },
          "metadata": {
            "tags": []
          },
          "execution_count": 74
        }
      ]
    },
    {
      "cell_type": "code",
      "metadata": {
        "id": "8hQc1VSPnYpK",
        "outputId": "cbb5f7f1-64fa-4f09-deef-fc7dbb43ed83"
      },
      "source": [
        "pd.pivot_table(df, values='D', index=['A', 'B'], columns=['C'])"
      ],
      "execution_count": null,
      "outputs": [
        {
          "output_type": "execute_result",
          "data": {
            "text/html": [
              "<div>\n",
              "<style scoped>\n",
              "    .dataframe tbody tr th:only-of-type {\n",
              "        vertical-align: middle;\n",
              "    }\n",
              "\n",
              "    .dataframe tbody tr th {\n",
              "        vertical-align: top;\n",
              "    }\n",
              "\n",
              "    .dataframe thead th {\n",
              "        text-align: right;\n",
              "    }\n",
              "</style>\n",
              "<table border=\"1\" class=\"dataframe\">\n",
              "  <thead>\n",
              "    <tr style=\"text-align: right;\">\n",
              "      <th></th>\n",
              "      <th>C</th>\n",
              "      <th>bar</th>\n",
              "      <th>foo</th>\n",
              "    </tr>\n",
              "    <tr>\n",
              "      <th>A</th>\n",
              "      <th>B</th>\n",
              "      <th></th>\n",
              "      <th></th>\n",
              "    </tr>\n",
              "  </thead>\n",
              "  <tbody>\n",
              "    <tr>\n",
              "      <th rowspan=\"3\" valign=\"top\">one</th>\n",
              "      <th>A</th>\n",
              "      <td>0.454621</td>\n",
              "      <td>-1.175000</td>\n",
              "    </tr>\n",
              "    <tr>\n",
              "      <th>B</th>\n",
              "      <td>-1.020652</td>\n",
              "      <td>-0.343639</td>\n",
              "    </tr>\n",
              "    <tr>\n",
              "      <th>C</th>\n",
              "      <td>-0.025347</td>\n",
              "      <td>0.251488</td>\n",
              "    </tr>\n",
              "    <tr>\n",
              "      <th rowspan=\"3\" valign=\"top\">three</th>\n",
              "      <th>A</th>\n",
              "      <td>0.479134</td>\n",
              "      <td>NaN</td>\n",
              "    </tr>\n",
              "    <tr>\n",
              "      <th>B</th>\n",
              "      <td>NaN</td>\n",
              "      <td>0.765850</td>\n",
              "    </tr>\n",
              "    <tr>\n",
              "      <th>C</th>\n",
              "      <td>-1.022884</td>\n",
              "      <td>NaN</td>\n",
              "    </tr>\n",
              "    <tr>\n",
              "      <th rowspan=\"3\" valign=\"top\">two</th>\n",
              "      <th>A</th>\n",
              "      <td>NaN</td>\n",
              "      <td>0.966323</td>\n",
              "    </tr>\n",
              "    <tr>\n",
              "      <th>B</th>\n",
              "      <td>0.540094</td>\n",
              "      <td>NaN</td>\n",
              "    </tr>\n",
              "    <tr>\n",
              "      <th>C</th>\n",
              "      <td>NaN</td>\n",
              "      <td>2.699147</td>\n",
              "    </tr>\n",
              "  </tbody>\n",
              "</table>\n",
              "</div>"
            ],
            "text/plain": [
              "C             bar       foo\n",
              "A     B                    \n",
              "one   A  0.454621 -1.175000\n",
              "      B -1.020652 -0.343639\n",
              "      C -0.025347  0.251488\n",
              "three A  0.479134       NaN\n",
              "      B       NaN  0.765850\n",
              "      C -1.022884       NaN\n",
              "two   A       NaN  0.966323\n",
              "      B  0.540094       NaN\n",
              "      C       NaN  2.699147"
            ]
          },
          "metadata": {
            "tags": []
          },
          "execution_count": 77
        }
      ]
    },
    {
      "cell_type": "code",
      "metadata": {
        "id": "xZmr_UeVnYpK"
      },
      "source": [
        "ts = pd.Series(np.random.randn(1000),\n",
        "   .....:                index=pd.date_range('1/1/2000', periods=1000))"
      ],
      "execution_count": null,
      "outputs": []
    },
    {
      "cell_type": "code",
      "metadata": {
        "id": "kXjcC-YTnYpK"
      },
      "source": [
        "ts = ts.cumsum()"
      ],
      "execution_count": null,
      "outputs": []
    },
    {
      "cell_type": "code",
      "metadata": {
        "id": "yHu-QMfInYpK",
        "outputId": "17006361-a0ca-43c2-e6a0-0d94e84c9ddc"
      },
      "source": [
        "ts.plot()"
      ],
      "execution_count": null,
      "outputs": [
        {
          "output_type": "execute_result",
          "data": {
            "text/plain": [
              "<AxesSubplot:>"
            ]
          },
          "metadata": {
            "tags": []
          },
          "execution_count": 80
        },
        {
          "output_type": "display_data",
          "data": {
            "image/png": "[encoded data removed]",
            "text/plain": [
              "<Figure size 432x288 with 1 Axes>"
            ]
          },
          "metadata": {
            "tags": [],
            "needs_background": "light"
          }
        }
      ]
    },
    {
      "cell_type": "code",
      "metadata": {
        "id": "OgK_AuKmnYpK"
      },
      "source": [
        "df = pd.DataFrame(np.random.randn(1000, 4), index=ts.index,\n",
        "   .....:                   columns=['A', 'B', 'C', 'D'])\n",
        "df=df.cumsum()"
      ],
      "execution_count": null,
      "outputs": []
    },
    {
      "cell_type": "code",
      "metadata": {
        "id": "Z1dZmd38nYpK",
        "outputId": "0b022029-8bb3-4e55-f20b-fee7ad4d5b39"
      },
      "source": [
        "import matplotlib.pyplot as plt\n",
        "plt.figure()\n",
        "df.plot()\n",
        "plt.legend(loc='best')"
      ],
      "execution_count": null,
      "outputs": [
        {
          "output_type": "execute_result",
          "data": {
            "text/plain": [
              "<matplotlib.legend.Legend at 0x238451a84f0>"
            ]
          },
          "metadata": {
            "tags": []
          },
          "execution_count": 89
        },
        {
          "output_type": "display_data",
          "data": {
            "text/plain": [
              "<Figure size 432x288 with 0 Axes>"
            ]
          },
          "metadata": {
            "tags": []
          }
        },
        {
          "output_type": "display_data",
          "data": {
            "image/png": "[encoded data removed]",
            "text/plain": [
              "<Figure size 432x288 with 1 Axes>"
            ]
          },
          "metadata": {
            "tags": [],
            "needs_background": "light"
          }
        }
      ]
    },
    {
      "cell_type": "code",
      "metadata": {
        "id": "1E6nTVG7nYpK"
      },
      "source": [
        "df.to_csv('foo.csv')"
      ],
      "execution_count": null,
      "outputs": []
    },
    {
      "cell_type": "code",
      "metadata": {
        "id": "ZE9whfxInYpK",
        "outputId": "ef0b1683-d23a-46ea-d72b-104933405fe5"
      },
      "source": [
        "pd.read_csv('foo.csv')"
      ],
      "execution_count": null,
      "outputs": [
        {
          "output_type": "execute_result",
          "data": {
            "text/html": [
              "<div>\n",
              "<style scoped>\n",
              "    .dataframe tbody tr th:only-of-type {\n",
              "        vertical-align: middle;\n",
              "    }\n",
              "\n",
              "    .dataframe tbody tr th {\n",
              "        vertical-align: top;\n",
              "    }\n",
              "\n",
              "    .dataframe thead th {\n",
              "        text-align: right;\n",
              "    }\n",
              "</style>\n",
              "<table border=\"1\" class=\"dataframe\">\n",
              "  <thead>\n",
              "    <tr style=\"text-align: right;\">\n",
              "      <th></th>\n",
              "      <th>Unnamed: 0</th>\n",
              "      <th>A</th>\n",
              "      <th>B</th>\n",
              "      <th>C</th>\n",
              "      <th>D</th>\n",
              "    </tr>\n",
              "  </thead>\n",
              "  <tbody>\n",
              "    <tr>\n",
              "      <th>0</th>\n",
              "      <td>2000-01-01</td>\n",
              "      <td>-1.600493</td>\n",
              "      <td>1.440145</td>\n",
              "      <td>1.334389</td>\n",
              "      <td>-1.074752</td>\n",
              "    </tr>\n",
              "    <tr>\n",
              "      <th>1</th>\n",
              "      <td>2000-01-02</td>\n",
              "      <td>-1.989550</td>\n",
              "      <td>0.767548</td>\n",
              "      <td>2.131030</td>\n",
              "      <td>-0.634896</td>\n",
              "    </tr>\n",
              "    <tr>\n",
              "      <th>2</th>\n",
              "      <td>2000-01-03</td>\n",
              "      <td>-2.363146</td>\n",
              "      <td>1.134627</td>\n",
              "      <td>0.330821</td>\n",
              "      <td>0.027337</td>\n",
              "    </tr>\n",
              "    <tr>\n",
              "      <th>3</th>\n",
              "      <td>2000-01-04</td>\n",
              "      <td>-3.167291</td>\n",
              "      <td>1.763308</td>\n",
              "      <td>-0.405219</td>\n",
              "      <td>1.036595</td>\n",
              "    </tr>\n",
              "    <tr>\n",
              "      <th>4</th>\n",
              "      <td>2000-01-05</td>\n",
              "      <td>-4.180790</td>\n",
              "      <td>1.326016</td>\n",
              "      <td>-1.148641</td>\n",
              "      <td>0.217678</td>\n",
              "    </tr>\n",
              "    <tr>\n",
              "      <th>...</th>\n",
              "      <td>...</td>\n",
              "      <td>...</td>\n",
              "      <td>...</td>\n",
              "      <td>...</td>\n",
              "      <td>...</td>\n",
              "    </tr>\n",
              "    <tr>\n",
              "      <th>995</th>\n",
              "      <td>2002-09-22</td>\n",
              "      <td>10.940203</td>\n",
              "      <td>62.553885</td>\n",
              "      <td>9.335171</td>\n",
              "      <td>-39.313326</td>\n",
              "    </tr>\n",
              "    <tr>\n",
              "      <th>996</th>\n",
              "      <td>2002-09-23</td>\n",
              "      <td>11.244854</td>\n",
              "      <td>63.825450</td>\n",
              "      <td>8.895745</td>\n",
              "      <td>-38.349624</td>\n",
              "    </tr>\n",
              "    <tr>\n",
              "      <th>997</th>\n",
              "      <td>2002-09-24</td>\n",
              "      <td>10.844720</td>\n",
              "      <td>64.234162</td>\n",
              "      <td>10.024380</td>\n",
              "      <td>-38.615470</td>\n",
              "    </tr>\n",
              "    <tr>\n",
              "      <th>998</th>\n",
              "      <td>2002-09-25</td>\n",
              "      <td>10.434399</td>\n",
              "      <td>63.668505</td>\n",
              "      <td>11.509075</td>\n",
              "      <td>-40.835780</td>\n",
              "    </tr>\n",
              "    <tr>\n",
              "      <th>999</th>\n",
              "      <td>2002-09-26</td>\n",
              "      <td>11.250802</td>\n",
              "      <td>64.315242</td>\n",
              "      <td>11.901362</td>\n",
              "      <td>-41.680109</td>\n",
              "    </tr>\n",
              "  </tbody>\n",
              "</table>\n",
              "<p>1000 rows × 5 columns</p>\n",
              "</div>"
            ],
            "text/plain": [
              "     Unnamed: 0          A          B          C          D\n",
              "0    2000-01-01  -1.600493   1.440145   1.334389  -1.074752\n",
              "1    2000-01-02  -1.989550   0.767548   2.131030  -0.634896\n",
              "2    2000-01-03  -2.363146   1.134627   0.330821   0.027337\n",
              "3    2000-01-04  -3.167291   1.763308  -0.405219   1.036595\n",
              "4    2000-01-05  -4.180790   1.326016  -1.148641   0.217678\n",
              "..          ...        ...        ...        ...        ...\n",
              "995  2002-09-22  10.940203  62.553885   9.335171 -39.313326\n",
              "996  2002-09-23  11.244854  63.825450   8.895745 -38.349624\n",
              "997  2002-09-24  10.844720  64.234162  10.024380 -38.615470\n",
              "998  2002-09-25  10.434399  63.668505  11.509075 -40.835780\n",
              "999  2002-09-26  11.250802  64.315242  11.901362 -41.680109\n",
              "\n",
              "[1000 rows x 5 columns]"
            ]
          },
          "metadata": {
            "tags": []
          },
          "execution_count": 91
        }
      ]
    },
    {
      "cell_type": "code",
      "metadata": {
        "id": "QVi8_PronYpK"
      },
      "source": [
        "df.to_excel('foo.xlsx', sheet_name='Sheet1')"
      ],
      "execution_count": null,
      "outputs": []
    },
    {
      "cell_type": "code",
      "metadata": {
        "id": "37WwWAtgnYpK",
        "outputId": "f9eab375-0089-4836-a311-af0f721fd094"
      },
      "source": [
        "pd.read_excel('foo.xlsx', 'Sheet1', index_col=None, na_values=['NA'])"
      ],
      "execution_count": null,
      "outputs": [
        {
          "output_type": "execute_result",
          "data": {
            "text/html": [
              "<div>\n",
              "<style scoped>\n",
              "    .dataframe tbody tr th:only-of-type {\n",
              "        vertical-align: middle;\n",
              "    }\n",
              "\n",
              "    .dataframe tbody tr th {\n",
              "        vertical-align: top;\n",
              "    }\n",
              "\n",
              "    .dataframe thead th {\n",
              "        text-align: right;\n",
              "    }\n",
              "</style>\n",
              "<table border=\"1\" class=\"dataframe\">\n",
              "  <thead>\n",
              "    <tr style=\"text-align: right;\">\n",
              "      <th></th>\n",
              "      <th>Unnamed: 0</th>\n",
              "      <th>A</th>\n",
              "      <th>B</th>\n",
              "      <th>C</th>\n",
              "      <th>D</th>\n",
              "    </tr>\n",
              "  </thead>\n",
              "  <tbody>\n",
              "    <tr>\n",
              "      <th>0</th>\n",
              "      <td>2000-01-01</td>\n",
              "      <td>-1.600493</td>\n",
              "      <td>1.440145</td>\n",
              "      <td>1.334389</td>\n",
              "      <td>-1.074752</td>\n",
              "    </tr>\n",
              "    <tr>\n",
              "      <th>1</th>\n",
              "      <td>2000-01-02</td>\n",
              "      <td>-1.989550</td>\n",
              "      <td>0.767548</td>\n",
              "      <td>2.131030</td>\n",
              "      <td>-0.634896</td>\n",
              "    </tr>\n",
              "    <tr>\n",
              "      <th>2</th>\n",
              "      <td>2000-01-03</td>\n",
              "      <td>-2.363146</td>\n",
              "      <td>1.134627</td>\n",
              "      <td>0.330821</td>\n",
              "      <td>0.027337</td>\n",
              "    </tr>\n",
              "    <tr>\n",
              "      <th>3</th>\n",
              "      <td>2000-01-04</td>\n",
              "      <td>-3.167291</td>\n",
              "      <td>1.763308</td>\n",
              "      <td>-0.405219</td>\n",
              "      <td>1.036595</td>\n",
              "    </tr>\n",
              "    <tr>\n",
              "      <th>4</th>\n",
              "      <td>2000-01-05</td>\n",
              "      <td>-4.180790</td>\n",
              "      <td>1.326016</td>\n",
              "      <td>-1.148641</td>\n",
              "      <td>0.217678</td>\n",
              "    </tr>\n",
              "    <tr>\n",
              "      <th>...</th>\n",
              "      <td>...</td>\n",
              "      <td>...</td>\n",
              "      <td>...</td>\n",
              "      <td>...</td>\n",
              "      <td>...</td>\n",
              "    </tr>\n",
              "    <tr>\n",
              "      <th>995</th>\n",
              "      <td>2002-09-22</td>\n",
              "      <td>10.940203</td>\n",
              "      <td>62.553885</td>\n",
              "      <td>9.335171</td>\n",
              "      <td>-39.313326</td>\n",
              "    </tr>\n",
              "    <tr>\n",
              "      <th>996</th>\n",
              "      <td>2002-09-23</td>\n",
              "      <td>11.244854</td>\n",
              "      <td>63.825450</td>\n",
              "      <td>8.895745</td>\n",
              "      <td>-38.349624</td>\n",
              "    </tr>\n",
              "    <tr>\n",
              "      <th>997</th>\n",
              "      <td>2002-09-24</td>\n",
              "      <td>10.844720</td>\n",
              "      <td>64.234162</td>\n",
              "      <td>10.024380</td>\n",
              "      <td>-38.615470</td>\n",
              "    </tr>\n",
              "    <tr>\n",
              "      <th>998</th>\n",
              "      <td>2002-09-25</td>\n",
              "      <td>10.434399</td>\n",
              "      <td>63.668505</td>\n",
              "      <td>11.509075</td>\n",
              "      <td>-40.835780</td>\n",
              "    </tr>\n",
              "    <tr>\n",
              "      <th>999</th>\n",
              "      <td>2002-09-26</td>\n",
              "      <td>11.250802</td>\n",
              "      <td>64.315242</td>\n",
              "      <td>11.901362</td>\n",
              "      <td>-41.680109</td>\n",
              "    </tr>\n",
              "  </tbody>\n",
              "</table>\n",
              "<p>1000 rows × 5 columns</p>\n",
              "</div>"
            ],
            "text/plain": [
              "    Unnamed: 0          A          B          C          D\n",
              "0   2000-01-01  -1.600493   1.440145   1.334389  -1.074752\n",
              "1   2000-01-02  -1.989550   0.767548   2.131030  -0.634896\n",
              "2   2000-01-03  -2.363146   1.134627   0.330821   0.027337\n",
              "3   2000-01-04  -3.167291   1.763308  -0.405219   1.036595\n",
              "4   2000-01-05  -4.180790   1.326016  -1.148641   0.217678\n",
              "..         ...        ...        ...        ...        ...\n",
              "995 2002-09-22  10.940203  62.553885   9.335171 -39.313326\n",
              "996 2002-09-23  11.244854  63.825450   8.895745 -38.349624\n",
              "997 2002-09-24  10.844720  64.234162  10.024380 -38.615470\n",
              "998 2002-09-25  10.434399  63.668505  11.509075 -40.835780\n",
              "999 2002-09-26  11.250802  64.315242  11.901362 -41.680109\n",
              "\n",
              "[1000 rows x 5 columns]"
            ]
          },
          "metadata": {
            "tags": []
          },
          "execution_count": 93
        }
      ]
    }
  ]
}